{
  "cells": [
    {
      "cell_type": "markdown",
      "metadata": {
        "id": "wD-KjjJXU6-5"
      },
      "source": [
        "<a href='https://www.altschoolafrica.com/'> <h2> Python for Data Engineering </h2></a>\n",
        "\n",
        "\n",
        "# <center> CAPSTONE PROJECT 1 <br> \n",
        "\n",
        "## <center>Exploratory Data Analysis (EDA) of US flights <br> (using Pandas, Matplotlib & Seaborn)\n",
        "\n",
        "<img src='altschool.jpeg' width=50%>\n"
      ]
    },
    {
      "cell_type": "markdown",
      "metadata": {
        "id": "fQ_EJr8XtmdC"
      },
      "source": []
    },
    {
      "cell_type": "code",
      "execution_count": null,
      "metadata": {
        "id": "l6LtUGxHtnpn"
      },
      "outputs": [],
      "source": []
    },
    {
      "cell_type": "code",
      "execution_count": null,
      "metadata": {
        "id": "4sTg3xTOU6_C"
      },
      "outputs": [],
      "source": [
        "import numpy as np\n",
        "import pandas as pd\n",
        "# pip install seaborn \n",
        "import seaborn as sns\n",
        "import matplotlib.pyplot as plt\n",
        "import matplotlib\n",
        "from matplotlib.pyplot import figure\n",
        "matplotlib.rcParams['figure.figsize'] = (8,6)"
      ]
    },
    {
      "cell_type": "markdown",
      "metadata": {
        "id": "cngEWVt5U6_F"
      },
      "source": [
        "Consider the following terms we use:\n",
        "* unique flight - a record (row) in the dataset\n",
        "* completed flight = flight that is not cancelled (Cancelled==0 in the dataset)\n",
        "* flight code - a combination of ['UniqueCarrier','FlightNum'], i.e.  UA52\n",
        "* airport code - a three letter airport alias from 'Origin or 'Dest' columns"
      ]
    },
    {
      "cell_type": "markdown",
      "metadata": {
        "id": "zMhqtap5U6_G"
      },
      "source": [
        "**Reading data into memory and creating a Pandas ``DataFrame`` object**\n",
        "\n",
        "(This may take a while, be patient)\n",
        "\n",
        "We are not going to read in the whole dataset. In order to reduce memory footprint, we instead load only needed columns and cast them to suitable data types."
      ]
    },
    {
      "cell_type": "code",
      "execution_count": null,
      "metadata": {
        "id": "VEITzsL9U6_H"
      },
      "outputs": [],
      "source": [
        "import numpy as np\n",
        "import pandas as pd\n",
        "import matplotlib.pyplot as plt\n",
        "import seaborn as sns\n",
        "%matplotlib inline"
      ]
    },
    {
      "cell_type": "code",
      "execution_count": null,
      "metadata": {
        "id": "RlJFemvyU6_I"
      },
      "outputs": [],
      "source": [
        "dtype = {'DayOfWeek': np.uint8, 'DayofMonth': np.uint8, 'Month': np.uint8 , \n",
        "         'Cancelled': np.uint8, 'Year': np.uint16, 'FlightNum': np.uint16 , \n",
        "         'Distance': np.uint16, 'UniqueCarrier': str, 'CancellationCode': str, \n",
        "         'Origin': str, 'Dest': str, 'ArrDelay': np.float16, \n",
        "         'DepDelay': np.float16, 'CarrierDelay': np.float16, \n",
        "         'WeatherDelay': np.float16, 'NASDelay': np.float16, \n",
        "         'SecurityDelay': np.float16, 'LateAircraftDelay': np.float16, \n",
        "         'DepTime': np.float16}"
      ]
    },
    {
      "cell_type": "code",
      "execution_count": null,
      "metadata": {
        "id": "zo0OiKwnU6_J",
        "colab": {
          "base_uri": "https://localhost:8080/"
        },
        "outputId": "a9130394-b697-49a5-e7ff-9b361c616385"
      },
      "outputs": [
        {
          "output_type": "stream",
          "name": "stdout",
          "text": [
            "CPU times: user 19 s, sys: 233 ms, total: 19.3 s\n",
            "Wall time: 19.3 s\n"
          ]
        }
      ],
      "source": [
        "%%time\n",
        "# change the path if needed\n",
        "path = \"/content/2008.csv.bz2\"\n",
        "flights_df = pd.read_csv(path, usecols=dtype.keys(), dtype=dtype)"
      ]
    },
    {
      "cell_type": "markdown",
      "metadata": {
        "id": "JfbrxsliU6_L"
      },
      "source": [
        "**Check the number of rows and columns and print column names.**"
      ]
    },
    {
      "cell_type": "code",
      "execution_count": null,
      "metadata": {
        "id": "OHDP6Kt9U6_M",
        "colab": {
          "base_uri": "https://localhost:8080/"
        },
        "outputId": "caa27c6b-1ba5-448c-fc97-0a1a2aa5f7dd"
      },
      "outputs": [
        {
          "output_type": "stream",
          "name": "stdout",
          "text": [
            "(2389217, 19)\n",
            "Index(['Year', 'Month', 'DayofMonth', 'DayOfWeek', 'DepTime', 'UniqueCarrier',\n",
            "       'FlightNum', 'ArrDelay', 'DepDelay', 'Origin', 'Dest', 'Distance',\n",
            "       'Cancelled', 'CancellationCode', 'CarrierDelay', 'WeatherDelay',\n",
            "       'NASDelay', 'SecurityDelay', 'LateAircraftDelay'],\n",
            "      dtype='object')\n"
          ]
        }
      ],
      "source": [
        "print(flights_df.shape)\n",
        "print(flights_df.columns)"
      ]
    },
    {
      "cell_type": "markdown",
      "metadata": {
        "id": "hgGNB7giU6_O"
      },
      "source": [
        "**Print first 5 rows of the dataset.**"
      ]
    },
    {
      "cell_type": "code",
      "execution_count": null,
      "metadata": {
        "id": "3uUwPN_uU6_O",
        "colab": {
          "base_uri": "https://localhost:8080/",
          "height": 270
        },
        "outputId": "f7fd03cb-c4b9-4194-f165-2d2e96ccb652"
      },
      "outputs": [
        {
          "output_type": "execute_result",
          "data": {
            "text/plain": [
              "   Year  Month  DayofMonth  DayOfWeek  DepTime UniqueCarrier  FlightNum  \\\n",
              "0  2008      1           3          4   1343.0            WN        588   \n",
              "1  2008      1           3          4   1125.0            WN       1343   \n",
              "2  2008      1           3          4   2009.0            WN       3841   \n",
              "3  2008      1           3          4    903.0            WN          3   \n",
              "4  2008      1           3          4   1423.0            WN         25   \n",
              "\n",
              "   ArrDelay  DepDelay Origin Dest  Distance  Cancelled CancellationCode  \\\n",
              "0      16.0      18.0    HOU  LIT       393          0              NaN   \n",
              "1       2.0       5.0    HOU  MAF       441          0              NaN   \n",
              "2      -4.0      -6.0    HOU  MAF       441          0              NaN   \n",
              "3      -2.0       8.0    HOU  MCO       848          0              NaN   \n",
              "4      16.0      23.0    HOU  MCO       848          0              NaN   \n",
              "\n",
              "   CarrierDelay  WeatherDelay  NASDelay  SecurityDelay  LateAircraftDelay  \n",
              "0          16.0           0.0       0.0            0.0                0.0  \n",
              "1           NaN           NaN       NaN            NaN                NaN  \n",
              "2           NaN           NaN       NaN            NaN                NaN  \n",
              "3           NaN           NaN       NaN            NaN                NaN  \n",
              "4          16.0           0.0       0.0            0.0                0.0  "
            ],
            "text/html": [
              "\n",
              "  <div id=\"df-d172a472-3a0f-4edd-8320-b82251542608\">\n",
              "    <div class=\"colab-df-container\">\n",
              "      <div>\n",
              "<style scoped>\n",
              "    .dataframe tbody tr th:only-of-type {\n",
              "        vertical-align: middle;\n",
              "    }\n",
              "\n",
              "    .dataframe tbody tr th {\n",
              "        vertical-align: top;\n",
              "    }\n",
              "\n",
              "    .dataframe thead th {\n",
              "        text-align: right;\n",
              "    }\n",
              "</style>\n",
              "<table border=\"1\" class=\"dataframe\">\n",
              "  <thead>\n",
              "    <tr style=\"text-align: right;\">\n",
              "      <th></th>\n",
              "      <th>Year</th>\n",
              "      <th>Month</th>\n",
              "      <th>DayofMonth</th>\n",
              "      <th>DayOfWeek</th>\n",
              "      <th>DepTime</th>\n",
              "      <th>UniqueCarrier</th>\n",
              "      <th>FlightNum</th>\n",
              "      <th>ArrDelay</th>\n",
              "      <th>DepDelay</th>\n",
              "      <th>Origin</th>\n",
              "      <th>Dest</th>\n",
              "      <th>Distance</th>\n",
              "      <th>Cancelled</th>\n",
              "      <th>CancellationCode</th>\n",
              "      <th>CarrierDelay</th>\n",
              "      <th>WeatherDelay</th>\n",
              "      <th>NASDelay</th>\n",
              "      <th>SecurityDelay</th>\n",
              "      <th>LateAircraftDelay</th>\n",
              "    </tr>\n",
              "  </thead>\n",
              "  <tbody>\n",
              "    <tr>\n",
              "      <th>0</th>\n",
              "      <td>2008</td>\n",
              "      <td>1</td>\n",
              "      <td>3</td>\n",
              "      <td>4</td>\n",
              "      <td>1343.0</td>\n",
              "      <td>WN</td>\n",
              "      <td>588</td>\n",
              "      <td>16.0</td>\n",
              "      <td>18.0</td>\n",
              "      <td>HOU</td>\n",
              "      <td>LIT</td>\n",
              "      <td>393</td>\n",
              "      <td>0</td>\n",
              "      <td>NaN</td>\n",
              "      <td>16.0</td>\n",
              "      <td>0.0</td>\n",
              "      <td>0.0</td>\n",
              "      <td>0.0</td>\n",
              "      <td>0.0</td>\n",
              "    </tr>\n",
              "    <tr>\n",
              "      <th>1</th>\n",
              "      <td>2008</td>\n",
              "      <td>1</td>\n",
              "      <td>3</td>\n",
              "      <td>4</td>\n",
              "      <td>1125.0</td>\n",
              "      <td>WN</td>\n",
              "      <td>1343</td>\n",
              "      <td>2.0</td>\n",
              "      <td>5.0</td>\n",
              "      <td>HOU</td>\n",
              "      <td>MAF</td>\n",
              "      <td>441</td>\n",
              "      <td>0</td>\n",
              "      <td>NaN</td>\n",
              "      <td>NaN</td>\n",
              "      <td>NaN</td>\n",
              "      <td>NaN</td>\n",
              "      <td>NaN</td>\n",
              "      <td>NaN</td>\n",
              "    </tr>\n",
              "    <tr>\n",
              "      <th>2</th>\n",
              "      <td>2008</td>\n",
              "      <td>1</td>\n",
              "      <td>3</td>\n",
              "      <td>4</td>\n",
              "      <td>2009.0</td>\n",
              "      <td>WN</td>\n",
              "      <td>3841</td>\n",
              "      <td>-4.0</td>\n",
              "      <td>-6.0</td>\n",
              "      <td>HOU</td>\n",
              "      <td>MAF</td>\n",
              "      <td>441</td>\n",
              "      <td>0</td>\n",
              "      <td>NaN</td>\n",
              "      <td>NaN</td>\n",
              "      <td>NaN</td>\n",
              "      <td>NaN</td>\n",
              "      <td>NaN</td>\n",
              "      <td>NaN</td>\n",
              "    </tr>\n",
              "    <tr>\n",
              "      <th>3</th>\n",
              "      <td>2008</td>\n",
              "      <td>1</td>\n",
              "      <td>3</td>\n",
              "      <td>4</td>\n",
              "      <td>903.0</td>\n",
              "      <td>WN</td>\n",
              "      <td>3</td>\n",
              "      <td>-2.0</td>\n",
              "      <td>8.0</td>\n",
              "      <td>HOU</td>\n",
              "      <td>MCO</td>\n",
              "      <td>848</td>\n",
              "      <td>0</td>\n",
              "      <td>NaN</td>\n",
              "      <td>NaN</td>\n",
              "      <td>NaN</td>\n",
              "      <td>NaN</td>\n",
              "      <td>NaN</td>\n",
              "      <td>NaN</td>\n",
              "    </tr>\n",
              "    <tr>\n",
              "      <th>4</th>\n",
              "      <td>2008</td>\n",
              "      <td>1</td>\n",
              "      <td>3</td>\n",
              "      <td>4</td>\n",
              "      <td>1423.0</td>\n",
              "      <td>WN</td>\n",
              "      <td>25</td>\n",
              "      <td>16.0</td>\n",
              "      <td>23.0</td>\n",
              "      <td>HOU</td>\n",
              "      <td>MCO</td>\n",
              "      <td>848</td>\n",
              "      <td>0</td>\n",
              "      <td>NaN</td>\n",
              "      <td>16.0</td>\n",
              "      <td>0.0</td>\n",
              "      <td>0.0</td>\n",
              "      <td>0.0</td>\n",
              "      <td>0.0</td>\n",
              "    </tr>\n",
              "  </tbody>\n",
              "</table>\n",
              "</div>\n",
              "      <button class=\"colab-df-convert\" onclick=\"convertToInteractive('df-d172a472-3a0f-4edd-8320-b82251542608')\"\n",
              "              title=\"Convert this dataframe to an interactive table.\"\n",
              "              style=\"display:none;\">\n",
              "        \n",
              "  <svg xmlns=\"http://www.w3.org/2000/svg\" height=\"24px\"viewBox=\"0 0 24 24\"\n",
              "       width=\"24px\">\n",
              "    <path d=\"M0 0h24v24H0V0z\" fill=\"none\"/>\n",
              "    <path d=\"M18.56 5.44l.94 2.06.94-2.06 2.06-.94-2.06-.94-.94-2.06-.94 2.06-2.06.94zm-11 1L8.5 8.5l.94-2.06 2.06-.94-2.06-.94L8.5 2.5l-.94 2.06-2.06.94zm10 10l.94 2.06.94-2.06 2.06-.94-2.06-.94-.94-2.06-.94 2.06-2.06.94z\"/><path d=\"M17.41 7.96l-1.37-1.37c-.4-.4-.92-.59-1.43-.59-.52 0-1.04.2-1.43.59L10.3 9.45l-7.72 7.72c-.78.78-.78 2.05 0 2.83L4 21.41c.39.39.9.59 1.41.59.51 0 1.02-.2 1.41-.59l7.78-7.78 2.81-2.81c.8-.78.8-2.07 0-2.86zM5.41 20L4 18.59l7.72-7.72 1.47 1.35L5.41 20z\"/>\n",
              "  </svg>\n",
              "      </button>\n",
              "      \n",
              "  <style>\n",
              "    .colab-df-container {\n",
              "      display:flex;\n",
              "      flex-wrap:wrap;\n",
              "      gap: 12px;\n",
              "    }\n",
              "\n",
              "    .colab-df-convert {\n",
              "      background-color: #E8F0FE;\n",
              "      border: none;\n",
              "      border-radius: 50%;\n",
              "      cursor: pointer;\n",
              "      display: none;\n",
              "      fill: #1967D2;\n",
              "      height: 32px;\n",
              "      padding: 0 0 0 0;\n",
              "      width: 32px;\n",
              "    }\n",
              "\n",
              "    .colab-df-convert:hover {\n",
              "      background-color: #E2EBFA;\n",
              "      box-shadow: 0px 1px 2px rgba(60, 64, 67, 0.3), 0px 1px 3px 1px rgba(60, 64, 67, 0.15);\n",
              "      fill: #174EA6;\n",
              "    }\n",
              "\n",
              "    [theme=dark] .colab-df-convert {\n",
              "      background-color: #3B4455;\n",
              "      fill: #D2E3FC;\n",
              "    }\n",
              "\n",
              "    [theme=dark] .colab-df-convert:hover {\n",
              "      background-color: #434B5C;\n",
              "      box-shadow: 0px 1px 3px 1px rgba(0, 0, 0, 0.15);\n",
              "      filter: drop-shadow(0px 1px 2px rgba(0, 0, 0, 0.3));\n",
              "      fill: #FFFFFF;\n",
              "    }\n",
              "  </style>\n",
              "\n",
              "      <script>\n",
              "        const buttonEl =\n",
              "          document.querySelector('#df-d172a472-3a0f-4edd-8320-b82251542608 button.colab-df-convert');\n",
              "        buttonEl.style.display =\n",
              "          google.colab.kernel.accessAllowed ? 'block' : 'none';\n",
              "\n",
              "        async function convertToInteractive(key) {\n",
              "          const element = document.querySelector('#df-d172a472-3a0f-4edd-8320-b82251542608');\n",
              "          const dataTable =\n",
              "            await google.colab.kernel.invokeFunction('convertToInteractive',\n",
              "                                                     [key], {});\n",
              "          if (!dataTable) return;\n",
              "\n",
              "          const docLinkHtml = 'Like what you see? Visit the ' +\n",
              "            '<a target=\"_blank\" href=https://colab.research.google.com/notebooks/data_table.ipynb>data table notebook</a>'\n",
              "            + ' to learn more about interactive tables.';\n",
              "          element.innerHTML = '';\n",
              "          dataTable['output_type'] = 'display_data';\n",
              "          await google.colab.output.renderOutput(dataTable, element);\n",
              "          const docLink = document.createElement('div');\n",
              "          docLink.innerHTML = docLinkHtml;\n",
              "          element.appendChild(docLink);\n",
              "        }\n",
              "      </script>\n",
              "    </div>\n",
              "  </div>\n",
              "  "
            ]
          },
          "metadata": {},
          "execution_count": 496
        }
      ],
      "source": [
        "flights_df.head()"
      ]
    },
    {
      "cell_type": "markdown",
      "metadata": {
        "id": "1TCXyztVU6_P"
      },
      "source": [
        "**Transpose the frame to see all features at once.**"
      ]
    },
    {
      "cell_type": "code",
      "execution_count": null,
      "metadata": {
        "id": "d8IS3D5tT-2B",
        "colab": {
          "base_uri": "https://localhost:8080/"
        },
        "outputId": "b91c8cfe-51cf-4f13-ce42-e61282958b9b"
      },
      "outputs": [
        {
          "output_type": "stream",
          "name": "stdout",
          "text": [
            "<class 'pandas.core.frame.DataFrame'>\n",
            "RangeIndex: 2389217 entries, 0 to 2389216\n",
            "Data columns (total 19 columns):\n",
            " #   Column             Dtype  \n",
            "---  ------             -----  \n",
            " 0   Year               uint16 \n",
            " 1   Month              uint8  \n",
            " 2   DayofMonth         uint8  \n",
            " 3   DayOfWeek          uint8  \n",
            " 4   DepTime            float16\n",
            " 5   UniqueCarrier      object \n",
            " 6   FlightNum          uint16 \n",
            " 7   ArrDelay           float16\n",
            " 8   DepDelay           float16\n",
            " 9   Origin             object \n",
            " 10  Dest               object \n",
            " 11  Distance           uint16 \n",
            " 12  Cancelled          uint8  \n",
            " 13  CancellationCode   object \n",
            " 14  CarrierDelay       float16\n",
            " 15  WeatherDelay       float16\n",
            " 16  NASDelay           float16\n",
            " 17  SecurityDelay      float16\n",
            " 18  LateAircraftDelay  float16\n",
            "dtypes: float16(8), object(4), uint16(3), uint8(4)\n",
            "memory usage: 132.2+ MB\n"
          ]
        }
      ],
      "source": [
        "flights_df.info()"
      ]
    },
    {
      "cell_type": "code",
      "execution_count": null,
      "metadata": {
        "id": "_mz9i37SU6_P",
        "colab": {
          "base_uri": "https://localhost:8080/",
          "height": 645
        },
        "outputId": "c7e81593-8061-40d7-b716-d177e9489eeb"
      },
      "outputs": [
        {
          "output_type": "execute_result",
          "data": {
            "text/plain": [
              "                        0       1       2      3       4\n",
              "Year                 2008    2008    2008   2008    2008\n",
              "Month                   1       1       1      1       1\n",
              "DayofMonth              3       3       3      3       3\n",
              "DayOfWeek               4       4       4      4       4\n",
              "DepTime            1343.0  1125.0  2009.0  903.0  1423.0\n",
              "UniqueCarrier          WN      WN      WN     WN      WN\n",
              "FlightNum             588    1343    3841      3      25\n",
              "ArrDelay             16.0     2.0    -4.0   -2.0    16.0\n",
              "DepDelay             18.0     5.0    -6.0    8.0    23.0\n",
              "Origin                HOU     HOU     HOU    HOU     HOU\n",
              "Dest                  LIT     MAF     MAF    MCO     MCO\n",
              "Distance              393     441     441    848     848\n",
              "Cancelled               0       0       0      0       0\n",
              "CancellationCode      NaN     NaN     NaN    NaN     NaN\n",
              "CarrierDelay         16.0     NaN     NaN    NaN    16.0\n",
              "WeatherDelay          0.0     NaN     NaN    NaN     0.0\n",
              "NASDelay              0.0     NaN     NaN    NaN     0.0\n",
              "SecurityDelay         0.0     NaN     NaN    NaN     0.0\n",
              "LateAircraftDelay     0.0     NaN     NaN    NaN     0.0"
            ],
            "text/html": [
              "\n",
              "  <div id=\"df-ef84ea55-cf61-4dc1-997f-efd7481c2634\">\n",
              "    <div class=\"colab-df-container\">\n",
              "      <div>\n",
              "<style scoped>\n",
              "    .dataframe tbody tr th:only-of-type {\n",
              "        vertical-align: middle;\n",
              "    }\n",
              "\n",
              "    .dataframe tbody tr th {\n",
              "        vertical-align: top;\n",
              "    }\n",
              "\n",
              "    .dataframe thead th {\n",
              "        text-align: right;\n",
              "    }\n",
              "</style>\n",
              "<table border=\"1\" class=\"dataframe\">\n",
              "  <thead>\n",
              "    <tr style=\"text-align: right;\">\n",
              "      <th></th>\n",
              "      <th>0</th>\n",
              "      <th>1</th>\n",
              "      <th>2</th>\n",
              "      <th>3</th>\n",
              "      <th>4</th>\n",
              "    </tr>\n",
              "  </thead>\n",
              "  <tbody>\n",
              "    <tr>\n",
              "      <th>Year</th>\n",
              "      <td>2008</td>\n",
              "      <td>2008</td>\n",
              "      <td>2008</td>\n",
              "      <td>2008</td>\n",
              "      <td>2008</td>\n",
              "    </tr>\n",
              "    <tr>\n",
              "      <th>Month</th>\n",
              "      <td>1</td>\n",
              "      <td>1</td>\n",
              "      <td>1</td>\n",
              "      <td>1</td>\n",
              "      <td>1</td>\n",
              "    </tr>\n",
              "    <tr>\n",
              "      <th>DayofMonth</th>\n",
              "      <td>3</td>\n",
              "      <td>3</td>\n",
              "      <td>3</td>\n",
              "      <td>3</td>\n",
              "      <td>3</td>\n",
              "    </tr>\n",
              "    <tr>\n",
              "      <th>DayOfWeek</th>\n",
              "      <td>4</td>\n",
              "      <td>4</td>\n",
              "      <td>4</td>\n",
              "      <td>4</td>\n",
              "      <td>4</td>\n",
              "    </tr>\n",
              "    <tr>\n",
              "      <th>DepTime</th>\n",
              "      <td>1343.0</td>\n",
              "      <td>1125.0</td>\n",
              "      <td>2009.0</td>\n",
              "      <td>903.0</td>\n",
              "      <td>1423.0</td>\n",
              "    </tr>\n",
              "    <tr>\n",
              "      <th>UniqueCarrier</th>\n",
              "      <td>WN</td>\n",
              "      <td>WN</td>\n",
              "      <td>WN</td>\n",
              "      <td>WN</td>\n",
              "      <td>WN</td>\n",
              "    </tr>\n",
              "    <tr>\n",
              "      <th>FlightNum</th>\n",
              "      <td>588</td>\n",
              "      <td>1343</td>\n",
              "      <td>3841</td>\n",
              "      <td>3</td>\n",
              "      <td>25</td>\n",
              "    </tr>\n",
              "    <tr>\n",
              "      <th>ArrDelay</th>\n",
              "      <td>16.0</td>\n",
              "      <td>2.0</td>\n",
              "      <td>-4.0</td>\n",
              "      <td>-2.0</td>\n",
              "      <td>16.0</td>\n",
              "    </tr>\n",
              "    <tr>\n",
              "      <th>DepDelay</th>\n",
              "      <td>18.0</td>\n",
              "      <td>5.0</td>\n",
              "      <td>-6.0</td>\n",
              "      <td>8.0</td>\n",
              "      <td>23.0</td>\n",
              "    </tr>\n",
              "    <tr>\n",
              "      <th>Origin</th>\n",
              "      <td>HOU</td>\n",
              "      <td>HOU</td>\n",
              "      <td>HOU</td>\n",
              "      <td>HOU</td>\n",
              "      <td>HOU</td>\n",
              "    </tr>\n",
              "    <tr>\n",
              "      <th>Dest</th>\n",
              "      <td>LIT</td>\n",
              "      <td>MAF</td>\n",
              "      <td>MAF</td>\n",
              "      <td>MCO</td>\n",
              "      <td>MCO</td>\n",
              "    </tr>\n",
              "    <tr>\n",
              "      <th>Distance</th>\n",
              "      <td>393</td>\n",
              "      <td>441</td>\n",
              "      <td>441</td>\n",
              "      <td>848</td>\n",
              "      <td>848</td>\n",
              "    </tr>\n",
              "    <tr>\n",
              "      <th>Cancelled</th>\n",
              "      <td>0</td>\n",
              "      <td>0</td>\n",
              "      <td>0</td>\n",
              "      <td>0</td>\n",
              "      <td>0</td>\n",
              "    </tr>\n",
              "    <tr>\n",
              "      <th>CancellationCode</th>\n",
              "      <td>NaN</td>\n",
              "      <td>NaN</td>\n",
              "      <td>NaN</td>\n",
              "      <td>NaN</td>\n",
              "      <td>NaN</td>\n",
              "    </tr>\n",
              "    <tr>\n",
              "      <th>CarrierDelay</th>\n",
              "      <td>16.0</td>\n",
              "      <td>NaN</td>\n",
              "      <td>NaN</td>\n",
              "      <td>NaN</td>\n",
              "      <td>16.0</td>\n",
              "    </tr>\n",
              "    <tr>\n",
              "      <th>WeatherDelay</th>\n",
              "      <td>0.0</td>\n",
              "      <td>NaN</td>\n",
              "      <td>NaN</td>\n",
              "      <td>NaN</td>\n",
              "      <td>0.0</td>\n",
              "    </tr>\n",
              "    <tr>\n",
              "      <th>NASDelay</th>\n",
              "      <td>0.0</td>\n",
              "      <td>NaN</td>\n",
              "      <td>NaN</td>\n",
              "      <td>NaN</td>\n",
              "      <td>0.0</td>\n",
              "    </tr>\n",
              "    <tr>\n",
              "      <th>SecurityDelay</th>\n",
              "      <td>0.0</td>\n",
              "      <td>NaN</td>\n",
              "      <td>NaN</td>\n",
              "      <td>NaN</td>\n",
              "      <td>0.0</td>\n",
              "    </tr>\n",
              "    <tr>\n",
              "      <th>LateAircraftDelay</th>\n",
              "      <td>0.0</td>\n",
              "      <td>NaN</td>\n",
              "      <td>NaN</td>\n",
              "      <td>NaN</td>\n",
              "      <td>0.0</td>\n",
              "    </tr>\n",
              "  </tbody>\n",
              "</table>\n",
              "</div>\n",
              "      <button class=\"colab-df-convert\" onclick=\"convertToInteractive('df-ef84ea55-cf61-4dc1-997f-efd7481c2634')\"\n",
              "              title=\"Convert this dataframe to an interactive table.\"\n",
              "              style=\"display:none;\">\n",
              "        \n",
              "  <svg xmlns=\"http://www.w3.org/2000/svg\" height=\"24px\"viewBox=\"0 0 24 24\"\n",
              "       width=\"24px\">\n",
              "    <path d=\"M0 0h24v24H0V0z\" fill=\"none\"/>\n",
              "    <path d=\"M18.56 5.44l.94 2.06.94-2.06 2.06-.94-2.06-.94-.94-2.06-.94 2.06-2.06.94zm-11 1L8.5 8.5l.94-2.06 2.06-.94-2.06-.94L8.5 2.5l-.94 2.06-2.06.94zm10 10l.94 2.06.94-2.06 2.06-.94-2.06-.94-.94-2.06-.94 2.06-2.06.94z\"/><path d=\"M17.41 7.96l-1.37-1.37c-.4-.4-.92-.59-1.43-.59-.52 0-1.04.2-1.43.59L10.3 9.45l-7.72 7.72c-.78.78-.78 2.05 0 2.83L4 21.41c.39.39.9.59 1.41.59.51 0 1.02-.2 1.41-.59l7.78-7.78 2.81-2.81c.8-.78.8-2.07 0-2.86zM5.41 20L4 18.59l7.72-7.72 1.47 1.35L5.41 20z\"/>\n",
              "  </svg>\n",
              "      </button>\n",
              "      \n",
              "  <style>\n",
              "    .colab-df-container {\n",
              "      display:flex;\n",
              "      flex-wrap:wrap;\n",
              "      gap: 12px;\n",
              "    }\n",
              "\n",
              "    .colab-df-convert {\n",
              "      background-color: #E8F0FE;\n",
              "      border: none;\n",
              "      border-radius: 50%;\n",
              "      cursor: pointer;\n",
              "      display: none;\n",
              "      fill: #1967D2;\n",
              "      height: 32px;\n",
              "      padding: 0 0 0 0;\n",
              "      width: 32px;\n",
              "    }\n",
              "\n",
              "    .colab-df-convert:hover {\n",
              "      background-color: #E2EBFA;\n",
              "      box-shadow: 0px 1px 2px rgba(60, 64, 67, 0.3), 0px 1px 3px 1px rgba(60, 64, 67, 0.15);\n",
              "      fill: #174EA6;\n",
              "    }\n",
              "\n",
              "    [theme=dark] .colab-df-convert {\n",
              "      background-color: #3B4455;\n",
              "      fill: #D2E3FC;\n",
              "    }\n",
              "\n",
              "    [theme=dark] .colab-df-convert:hover {\n",
              "      background-color: #434B5C;\n",
              "      box-shadow: 0px 1px 3px 1px rgba(0, 0, 0, 0.15);\n",
              "      filter: drop-shadow(0px 1px 2px rgba(0, 0, 0, 0.3));\n",
              "      fill: #FFFFFF;\n",
              "    }\n",
              "  </style>\n",
              "\n",
              "      <script>\n",
              "        const buttonEl =\n",
              "          document.querySelector('#df-ef84ea55-cf61-4dc1-997f-efd7481c2634 button.colab-df-convert');\n",
              "        buttonEl.style.display =\n",
              "          google.colab.kernel.accessAllowed ? 'block' : 'none';\n",
              "\n",
              "        async function convertToInteractive(key) {\n",
              "          const element = document.querySelector('#df-ef84ea55-cf61-4dc1-997f-efd7481c2634');\n",
              "          const dataTable =\n",
              "            await google.colab.kernel.invokeFunction('convertToInteractive',\n",
              "                                                     [key], {});\n",
              "          if (!dataTable) return;\n",
              "\n",
              "          const docLinkHtml = 'Like what you see? Visit the ' +\n",
              "            '<a target=\"_blank\" href=https://colab.research.google.com/notebooks/data_table.ipynb>data table notebook</a>'\n",
              "            + ' to learn more about interactive tables.';\n",
              "          element.innerHTML = '';\n",
              "          dataTable['output_type'] = 'display_data';\n",
              "          await google.colab.output.renderOutput(dataTable, element);\n",
              "          const docLink = document.createElement('div');\n",
              "          docLink.innerHTML = docLinkHtml;\n",
              "          element.appendChild(docLink);\n",
              "        }\n",
              "      </script>\n",
              "    </div>\n",
              "  </div>\n",
              "  "
            ]
          },
          "metadata": {},
          "execution_count": 498
        }
      ],
      "source": [
        "flights_df.head().T"
      ]
    },
    {
      "cell_type": "markdown",
      "metadata": {
        "id": "MX2SnKSdU6_Q"
      },
      "source": [
        "**Examine data types of all features and total dataframe size in memory.**"
      ]
    },
    {
      "cell_type": "code",
      "execution_count": null,
      "metadata": {
        "id": "lVT_eAHPU6_Q"
      },
      "outputs": [],
      "source": [
        "miss_percent = 100 * (flights_df.isnull().sum()/len(flights_df))"
      ]
    },
    {
      "cell_type": "code",
      "execution_count": null,
      "metadata": {
        "id": "aIcySZxCU6_R",
        "colab": {
          "base_uri": "https://localhost:8080/"
        },
        "outputId": "c55e8dc1-4b6b-4b97-a204-ffb1562c570d"
      },
      "outputs": [
        {
          "output_type": "execute_result",
          "data": {
            "text/plain": [
              "Year                  0.000000\n",
              "Month                 0.000000\n",
              "DayofMonth            0.000000\n",
              "DayOfWeek             0.000000\n",
              "DepTime               2.697202\n",
              "UniqueCarrier         0.000000\n",
              "FlightNum             0.000000\n",
              "ArrDelay              2.933848\n",
              "DepDelay              2.697202\n",
              "Origin                0.000000\n",
              "Dest                  0.000000\n",
              "Distance              0.000000\n",
              "Cancelled             0.000000\n",
              "CancellationCode     97.302798\n",
              "CarrierDelay         75.532444\n",
              "WeatherDelay         75.532444\n",
              "NASDelay             75.532444\n",
              "SecurityDelay        75.532444\n",
              "LateAircraftDelay    75.532444\n",
              "dtype: float64"
            ]
          },
          "metadata": {},
          "execution_count": 500
        }
      ],
      "source": [
        "miss_percent"
      ]
    },
    {
      "cell_type": "markdown",
      "metadata": {
        "id": "fpFKJfivU6_R"
      },
      "source": [
        "**Get basic statistics of each feature.**"
      ]
    },
    {
      "cell_type": "code",
      "execution_count": null,
      "metadata": {
        "id": "FhFbI5qoU6_S",
        "colab": {
          "base_uri": "https://localhost:8080/",
          "height": 520
        },
        "outputId": "36ab2cbb-9737-48f8-9baf-888a3e9f18f4"
      },
      "outputs": [
        {
          "output_type": "execute_result",
          "data": {
            "text/plain": [
              "                       count         mean          std     min     25%  \\\n",
              "Year               2389217.0  2008.000000     0.000000  2008.0  2008.0   \n",
              "Month              2389217.0     2.505009     1.121493     1.0     1.0   \n",
              "DayofMonth         2389217.0    15.663856     8.750405     1.0     8.0   \n",
              "DayOfWeek          2389217.0     3.909625     1.980431     1.0     2.0   \n",
              "DepTime            2324775.0          NaN          NaN     1.0   930.0   \n",
              "FlightNum          2389217.0  2213.887980  1951.392101     1.0   605.0   \n",
              "ArrDelay           2319121.0          NaN          NaN   -91.0    -9.0   \n",
              "DepDelay           2324775.0          NaN          NaN   -92.0    -4.0   \n",
              "Distance           2389217.0   726.158911   557.176261    17.0   325.0   \n",
              "Cancelled          2389217.0     0.026972     0.162002     0.0     0.0   \n",
              "CarrierDelay        584583.0          NaN          NaN     0.0     0.0   \n",
              "WeatherDelay        584583.0          NaN          NaN     0.0     0.0   \n",
              "NASDelay            584583.0          NaN          NaN     0.0     0.0   \n",
              "SecurityDelay       584583.0     0.000000          NaN     0.0     0.0   \n",
              "LateAircraftDelay   584583.0          NaN          NaN     0.0     0.0   \n",
              "\n",
              "                      50%     75%     max  \n",
              "Year               2008.0  2008.0  2008.0  \n",
              "Month                 3.0     4.0     4.0  \n",
              "DayofMonth           16.0    23.0    31.0  \n",
              "DayOfWeek             4.0     6.0     7.0  \n",
              "DepTime            1330.0  1733.0  2400.0  \n",
              "FlightNum          1544.0  3631.0  9741.0  \n",
              "ArrDelay              0.0    15.0  2460.0  \n",
              "DepDelay              0.0    11.0  2468.0  \n",
              "Distance            583.0   957.0  4962.0  \n",
              "Cancelled             0.0     0.0     1.0  \n",
              "CarrierDelay          0.0    16.0  2436.0  \n",
              "WeatherDelay          0.0     0.0  1148.0  \n",
              "NASDelay              5.0    20.0  1357.0  \n",
              "SecurityDelay         0.0     0.0   392.0  \n",
              "LateAircraftDelay     0.0    27.0  1254.0  "
            ],
            "text/html": [
              "\n",
              "  <div id=\"df-904935ca-d3e2-45c2-845d-79348051cbd9\">\n",
              "    <div class=\"colab-df-container\">\n",
              "      <div>\n",
              "<style scoped>\n",
              "    .dataframe tbody tr th:only-of-type {\n",
              "        vertical-align: middle;\n",
              "    }\n",
              "\n",
              "    .dataframe tbody tr th {\n",
              "        vertical-align: top;\n",
              "    }\n",
              "\n",
              "    .dataframe thead th {\n",
              "        text-align: right;\n",
              "    }\n",
              "</style>\n",
              "<table border=\"1\" class=\"dataframe\">\n",
              "  <thead>\n",
              "    <tr style=\"text-align: right;\">\n",
              "      <th></th>\n",
              "      <th>count</th>\n",
              "      <th>mean</th>\n",
              "      <th>std</th>\n",
              "      <th>min</th>\n",
              "      <th>25%</th>\n",
              "      <th>50%</th>\n",
              "      <th>75%</th>\n",
              "      <th>max</th>\n",
              "    </tr>\n",
              "  </thead>\n",
              "  <tbody>\n",
              "    <tr>\n",
              "      <th>Year</th>\n",
              "      <td>2389217.0</td>\n",
              "      <td>2008.000000</td>\n",
              "      <td>0.000000</td>\n",
              "      <td>2008.0</td>\n",
              "      <td>2008.0</td>\n",
              "      <td>2008.0</td>\n",
              "      <td>2008.0</td>\n",
              "      <td>2008.0</td>\n",
              "    </tr>\n",
              "    <tr>\n",
              "      <th>Month</th>\n",
              "      <td>2389217.0</td>\n",
              "      <td>2.505009</td>\n",
              "      <td>1.121493</td>\n",
              "      <td>1.0</td>\n",
              "      <td>1.0</td>\n",
              "      <td>3.0</td>\n",
              "      <td>4.0</td>\n",
              "      <td>4.0</td>\n",
              "    </tr>\n",
              "    <tr>\n",
              "      <th>DayofMonth</th>\n",
              "      <td>2389217.0</td>\n",
              "      <td>15.663856</td>\n",
              "      <td>8.750405</td>\n",
              "      <td>1.0</td>\n",
              "      <td>8.0</td>\n",
              "      <td>16.0</td>\n",
              "      <td>23.0</td>\n",
              "      <td>31.0</td>\n",
              "    </tr>\n",
              "    <tr>\n",
              "      <th>DayOfWeek</th>\n",
              "      <td>2389217.0</td>\n",
              "      <td>3.909625</td>\n",
              "      <td>1.980431</td>\n",
              "      <td>1.0</td>\n",
              "      <td>2.0</td>\n",
              "      <td>4.0</td>\n",
              "      <td>6.0</td>\n",
              "      <td>7.0</td>\n",
              "    </tr>\n",
              "    <tr>\n",
              "      <th>DepTime</th>\n",
              "      <td>2324775.0</td>\n",
              "      <td>NaN</td>\n",
              "      <td>NaN</td>\n",
              "      <td>1.0</td>\n",
              "      <td>930.0</td>\n",
              "      <td>1330.0</td>\n",
              "      <td>1733.0</td>\n",
              "      <td>2400.0</td>\n",
              "    </tr>\n",
              "    <tr>\n",
              "      <th>FlightNum</th>\n",
              "      <td>2389217.0</td>\n",
              "      <td>2213.887980</td>\n",
              "      <td>1951.392101</td>\n",
              "      <td>1.0</td>\n",
              "      <td>605.0</td>\n",
              "      <td>1544.0</td>\n",
              "      <td>3631.0</td>\n",
              "      <td>9741.0</td>\n",
              "    </tr>\n",
              "    <tr>\n",
              "      <th>ArrDelay</th>\n",
              "      <td>2319121.0</td>\n",
              "      <td>NaN</td>\n",
              "      <td>NaN</td>\n",
              "      <td>-91.0</td>\n",
              "      <td>-9.0</td>\n",
              "      <td>0.0</td>\n",
              "      <td>15.0</td>\n",
              "      <td>2460.0</td>\n",
              "    </tr>\n",
              "    <tr>\n",
              "      <th>DepDelay</th>\n",
              "      <td>2324775.0</td>\n",
              "      <td>NaN</td>\n",
              "      <td>NaN</td>\n",
              "      <td>-92.0</td>\n",
              "      <td>-4.0</td>\n",
              "      <td>0.0</td>\n",
              "      <td>11.0</td>\n",
              "      <td>2468.0</td>\n",
              "    </tr>\n",
              "    <tr>\n",
              "      <th>Distance</th>\n",
              "      <td>2389217.0</td>\n",
              "      <td>726.158911</td>\n",
              "      <td>557.176261</td>\n",
              "      <td>17.0</td>\n",
              "      <td>325.0</td>\n",
              "      <td>583.0</td>\n",
              "      <td>957.0</td>\n",
              "      <td>4962.0</td>\n",
              "    </tr>\n",
              "    <tr>\n",
              "      <th>Cancelled</th>\n",
              "      <td>2389217.0</td>\n",
              "      <td>0.026972</td>\n",
              "      <td>0.162002</td>\n",
              "      <td>0.0</td>\n",
              "      <td>0.0</td>\n",
              "      <td>0.0</td>\n",
              "      <td>0.0</td>\n",
              "      <td>1.0</td>\n",
              "    </tr>\n",
              "    <tr>\n",
              "      <th>CarrierDelay</th>\n",
              "      <td>584583.0</td>\n",
              "      <td>NaN</td>\n",
              "      <td>NaN</td>\n",
              "      <td>0.0</td>\n",
              "      <td>0.0</td>\n",
              "      <td>0.0</td>\n",
              "      <td>16.0</td>\n",
              "      <td>2436.0</td>\n",
              "    </tr>\n",
              "    <tr>\n",
              "      <th>WeatherDelay</th>\n",
              "      <td>584583.0</td>\n",
              "      <td>NaN</td>\n",
              "      <td>NaN</td>\n",
              "      <td>0.0</td>\n",
              "      <td>0.0</td>\n",
              "      <td>0.0</td>\n",
              "      <td>0.0</td>\n",
              "      <td>1148.0</td>\n",
              "    </tr>\n",
              "    <tr>\n",
              "      <th>NASDelay</th>\n",
              "      <td>584583.0</td>\n",
              "      <td>NaN</td>\n",
              "      <td>NaN</td>\n",
              "      <td>0.0</td>\n",
              "      <td>0.0</td>\n",
              "      <td>5.0</td>\n",
              "      <td>20.0</td>\n",
              "      <td>1357.0</td>\n",
              "    </tr>\n",
              "    <tr>\n",
              "      <th>SecurityDelay</th>\n",
              "      <td>584583.0</td>\n",
              "      <td>0.000000</td>\n",
              "      <td>NaN</td>\n",
              "      <td>0.0</td>\n",
              "      <td>0.0</td>\n",
              "      <td>0.0</td>\n",
              "      <td>0.0</td>\n",
              "      <td>392.0</td>\n",
              "    </tr>\n",
              "    <tr>\n",
              "      <th>LateAircraftDelay</th>\n",
              "      <td>584583.0</td>\n",
              "      <td>NaN</td>\n",
              "      <td>NaN</td>\n",
              "      <td>0.0</td>\n",
              "      <td>0.0</td>\n",
              "      <td>0.0</td>\n",
              "      <td>27.0</td>\n",
              "      <td>1254.0</td>\n",
              "    </tr>\n",
              "  </tbody>\n",
              "</table>\n",
              "</div>\n",
              "      <button class=\"colab-df-convert\" onclick=\"convertToInteractive('df-904935ca-d3e2-45c2-845d-79348051cbd9')\"\n",
              "              title=\"Convert this dataframe to an interactive table.\"\n",
              "              style=\"display:none;\">\n",
              "        \n",
              "  <svg xmlns=\"http://www.w3.org/2000/svg\" height=\"24px\"viewBox=\"0 0 24 24\"\n",
              "       width=\"24px\">\n",
              "    <path d=\"M0 0h24v24H0V0z\" fill=\"none\"/>\n",
              "    <path d=\"M18.56 5.44l.94 2.06.94-2.06 2.06-.94-2.06-.94-.94-2.06-.94 2.06-2.06.94zm-11 1L8.5 8.5l.94-2.06 2.06-.94-2.06-.94L8.5 2.5l-.94 2.06-2.06.94zm10 10l.94 2.06.94-2.06 2.06-.94-2.06-.94-.94-2.06-.94 2.06-2.06.94z\"/><path d=\"M17.41 7.96l-1.37-1.37c-.4-.4-.92-.59-1.43-.59-.52 0-1.04.2-1.43.59L10.3 9.45l-7.72 7.72c-.78.78-.78 2.05 0 2.83L4 21.41c.39.39.9.59 1.41.59.51 0 1.02-.2 1.41-.59l7.78-7.78 2.81-2.81c.8-.78.8-2.07 0-2.86zM5.41 20L4 18.59l7.72-7.72 1.47 1.35L5.41 20z\"/>\n",
              "  </svg>\n",
              "      </button>\n",
              "      \n",
              "  <style>\n",
              "    .colab-df-container {\n",
              "      display:flex;\n",
              "      flex-wrap:wrap;\n",
              "      gap: 12px;\n",
              "    }\n",
              "\n",
              "    .colab-df-convert {\n",
              "      background-color: #E8F0FE;\n",
              "      border: none;\n",
              "      border-radius: 50%;\n",
              "      cursor: pointer;\n",
              "      display: none;\n",
              "      fill: #1967D2;\n",
              "      height: 32px;\n",
              "      padding: 0 0 0 0;\n",
              "      width: 32px;\n",
              "    }\n",
              "\n",
              "    .colab-df-convert:hover {\n",
              "      background-color: #E2EBFA;\n",
              "      box-shadow: 0px 1px 2px rgba(60, 64, 67, 0.3), 0px 1px 3px 1px rgba(60, 64, 67, 0.15);\n",
              "      fill: #174EA6;\n",
              "    }\n",
              "\n",
              "    [theme=dark] .colab-df-convert {\n",
              "      background-color: #3B4455;\n",
              "      fill: #D2E3FC;\n",
              "    }\n",
              "\n",
              "    [theme=dark] .colab-df-convert:hover {\n",
              "      background-color: #434B5C;\n",
              "      box-shadow: 0px 1px 3px 1px rgba(0, 0, 0, 0.15);\n",
              "      filter: drop-shadow(0px 1px 2px rgba(0, 0, 0, 0.3));\n",
              "      fill: #FFFFFF;\n",
              "    }\n",
              "  </style>\n",
              "\n",
              "      <script>\n",
              "        const buttonEl =\n",
              "          document.querySelector('#df-904935ca-d3e2-45c2-845d-79348051cbd9 button.colab-df-convert');\n",
              "        buttonEl.style.display =\n",
              "          google.colab.kernel.accessAllowed ? 'block' : 'none';\n",
              "\n",
              "        async function convertToInteractive(key) {\n",
              "          const element = document.querySelector('#df-904935ca-d3e2-45c2-845d-79348051cbd9');\n",
              "          const dataTable =\n",
              "            await google.colab.kernel.invokeFunction('convertToInteractive',\n",
              "                                                     [key], {});\n",
              "          if (!dataTable) return;\n",
              "\n",
              "          const docLinkHtml = 'Like what you see? Visit the ' +\n",
              "            '<a target=\"_blank\" href=https://colab.research.google.com/notebooks/data_table.ipynb>data table notebook</a>'\n",
              "            + ' to learn more about interactive tables.';\n",
              "          element.innerHTML = '';\n",
              "          dataTable['output_type'] = 'display_data';\n",
              "          await google.colab.output.renderOutput(dataTable, element);\n",
              "          const docLink = document.createElement('div');\n",
              "          docLink.innerHTML = docLinkHtml;\n",
              "          element.appendChild(docLink);\n",
              "        }\n",
              "      </script>\n",
              "    </div>\n",
              "  </div>\n",
              "  "
            ]
          },
          "metadata": {},
          "execution_count": 501
        }
      ],
      "source": [
        "flights_df.describe().T"
      ]
    },
    {
      "cell_type": "markdown",
      "metadata": {
        "id": "D3oc6Q1WU6_S"
      },
      "source": [
        "**Count unique Carriers and plot their relative share of flights:**"
      ]
    },
    {
      "cell_type": "code",
      "execution_count": null,
      "metadata": {
        "id": "y_RMKBCrU6_T",
        "colab": {
          "base_uri": "https://localhost:8080/"
        },
        "outputId": "1211da94-99aa-4aa9-eb8a-0a26c9375814"
      },
      "outputs": [
        {
          "output_type": "execute_result",
          "data": {
            "text/plain": [
              "20"
            ]
          },
          "metadata": {},
          "execution_count": 502
        }
      ],
      "source": [
        "flights_df['UniqueCarrier'].nunique()"
      ]
    },
    {
      "cell_type": "code",
      "execution_count": null,
      "metadata": {
        "id": "2idp4RizU6_T",
        "colab": {
          "base_uri": "https://localhost:8080/"
        },
        "outputId": "24b5c098-9686-420d-9b92-05360b8b3aea"
      },
      "outputs": [
        {
          "output_type": "execute_result",
          "data": {
            "text/plain": [
              "UniqueCarrier\n",
              "WN    398966\n",
              "AA    204519\n",
              "OO    195184\n",
              "MQ    167860\n",
              "UA    154036\n",
              "US    153539\n",
              "DL    151409\n",
              "XE    138757\n",
              "NW    122799\n",
              "CO    102702\n",
              "EV     92383\n",
              "9E     88359\n",
              "FL     86856\n",
              "YV     85686\n",
              "OH     71934\n",
              "B6     67478\n",
              "AS     49885\n",
              "F9     30680\n",
              "HA     18385\n",
              "AQ      7800\n",
              "dtype: int64"
            ]
          },
          "metadata": {},
          "execution_count": 503
        }
      ],
      "source": [
        "flights_df.groupby('UniqueCarrier').size().sort_values(ascending=False)"
      ]
    },
    {
      "cell_type": "code",
      "execution_count": null,
      "metadata": {
        "id": "i6heJ5-GU6_U",
        "scrolled": true,
        "colab": {
          "base_uri": "https://localhost:8080/",
          "height": 287
        },
        "outputId": "16cc32b4-705a-4151-948a-ae3f2dd92374"
      },
      "outputs": [
        {
          "output_type": "display_data",
          "data": {
            "text/plain": [
              "<Figure size 432x288 with 1 Axes>"
            ],
            "image/png": "[encoded data removed]"
          },
          "metadata": {
            "needs_background": "light"
          }
        }
      ],
      "source": [
        "flights_df.groupby('UniqueCarrier').size().plot(kind='bar');"
      ]
    },
    {
      "cell_type": "markdown",
      "metadata": {
        "id": "lxJHAkcTU6_U"
      },
      "source": [
        "**We can also _group by_ category/categories in order to calculate different aggregated statistics.**\n",
        "\n",
        "**For example, finding top-3 flight codes, that have the largest total distance travelled in year 2008.**"
      ]
    },
    {
      "cell_type": "code",
      "execution_count": null,
      "metadata": {
        "id": "WpoTjeF1U6_V",
        "colab": {
          "base_uri": "https://localhost:8080/"
        },
        "outputId": "76bc1261-6de2-45ee-d2ff-42c4bcb3b974"
      },
      "outputs": [
        {
          "output_type": "execute_result",
          "data": {
            "text/plain": [
              "UniqueCarrier  FlightNum\n",
              "UA             3            729366.0\n",
              "CO             15           600402.0\n",
              "               14           600402.0\n",
              "Name: Distance, dtype: float64"
            ]
          },
          "metadata": {},
          "execution_count": 505
        }
      ],
      "source": [
        "flights_df.groupby(['UniqueCarrier','FlightNum'])['Distance'].sum().sort_values(\n",
        "    ascending=False).iloc[:3]"
      ]
    },
    {
      "cell_type": "markdown",
      "metadata": {
        "id": "Y4XoK9xJU6_W"
      },
      "source": [
        "**Another way:**"
      ]
    },
    {
      "cell_type": "code",
      "execution_count": null,
      "metadata": {
        "id": "7Lo5yVuDU6_Z",
        "colab": {
          "base_uri": "https://localhost:8080/",
          "height": 206
        },
        "outputId": "e6b91b2e-74c0-499d-cf12-79026a7f08f3"
      },
      "outputs": [
        {
          "output_type": "execute_result",
          "data": {
            "text/plain": [
              "                        Distance                 Cancelled\n",
              "                            mean       sum count       sum\n",
              "UniqueCarrier FlightNum                                   \n",
              "UA            3           2827.0  729366.0   258         4\n",
              "CO            15          4962.0  600402.0   121         0\n",
              "              14          4962.0  600402.0   121         0"
            ],
            "text/html": [
              "\n",
              "  <div id=\"df-979cc65b-ae5b-44bd-8057-de04c94ba30d\">\n",
              "    <div class=\"colab-df-container\">\n",
              "      <div>\n",
              "<style scoped>\n",
              "    .dataframe tbody tr th:only-of-type {\n",
              "        vertical-align: middle;\n",
              "    }\n",
              "\n",
              "    .dataframe tbody tr th {\n",
              "        vertical-align: top;\n",
              "    }\n",
              "\n",
              "    .dataframe thead tr th {\n",
              "        text-align: left;\n",
              "    }\n",
              "\n",
              "    .dataframe thead tr:last-of-type th {\n",
              "        text-align: right;\n",
              "    }\n",
              "</style>\n",
              "<table border=\"1\" class=\"dataframe\">\n",
              "  <thead>\n",
              "    <tr>\n",
              "      <th></th>\n",
              "      <th></th>\n",
              "      <th colspan=\"3\" halign=\"left\">Distance</th>\n",
              "      <th>Cancelled</th>\n",
              "    </tr>\n",
              "    <tr>\n",
              "      <th></th>\n",
              "      <th></th>\n",
              "      <th>mean</th>\n",
              "      <th>sum</th>\n",
              "      <th>count</th>\n",
              "      <th>sum</th>\n",
              "    </tr>\n",
              "    <tr>\n",
              "      <th>UniqueCarrier</th>\n",
              "      <th>FlightNum</th>\n",
              "      <th></th>\n",
              "      <th></th>\n",
              "      <th></th>\n",
              "      <th></th>\n",
              "    </tr>\n",
              "  </thead>\n",
              "  <tbody>\n",
              "    <tr>\n",
              "      <th>UA</th>\n",
              "      <th>3</th>\n",
              "      <td>2827.0</td>\n",
              "      <td>729366.0</td>\n",
              "      <td>258</td>\n",
              "      <td>4</td>\n",
              "    </tr>\n",
              "    <tr>\n",
              "      <th rowspan=\"2\" valign=\"top\">CO</th>\n",
              "      <th>15</th>\n",
              "      <td>4962.0</td>\n",
              "      <td>600402.0</td>\n",
              "      <td>121</td>\n",
              "      <td>0</td>\n",
              "    </tr>\n",
              "    <tr>\n",
              "      <th>14</th>\n",
              "      <td>4962.0</td>\n",
              "      <td>600402.0</td>\n",
              "      <td>121</td>\n",
              "      <td>0</td>\n",
              "    </tr>\n",
              "  </tbody>\n",
              "</table>\n",
              "</div>\n",
              "      <button class=\"colab-df-convert\" onclick=\"convertToInteractive('df-979cc65b-ae5b-44bd-8057-de04c94ba30d')\"\n",
              "              title=\"Convert this dataframe to an interactive table.\"\n",
              "              style=\"display:none;\">\n",
              "        \n",
              "  <svg xmlns=\"http://www.w3.org/2000/svg\" height=\"24px\"viewBox=\"0 0 24 24\"\n",
              "       width=\"24px\">\n",
              "    <path d=\"M0 0h24v24H0V0z\" fill=\"none\"/>\n",
              "    <path d=\"M18.56 5.44l.94 2.06.94-2.06 2.06-.94-2.06-.94-.94-2.06-.94 2.06-2.06.94zm-11 1L8.5 8.5l.94-2.06 2.06-.94-2.06-.94L8.5 2.5l-.94 2.06-2.06.94zm10 10l.94 2.06.94-2.06 2.06-.94-2.06-.94-.94-2.06-.94 2.06-2.06.94z\"/><path d=\"M17.41 7.96l-1.37-1.37c-.4-.4-.92-.59-1.43-.59-.52 0-1.04.2-1.43.59L10.3 9.45l-7.72 7.72c-.78.78-.78 2.05 0 2.83L4 21.41c.39.39.9.59 1.41.59.51 0 1.02-.2 1.41-.59l7.78-7.78 2.81-2.81c.8-.78.8-2.07 0-2.86zM5.41 20L4 18.59l7.72-7.72 1.47 1.35L5.41 20z\"/>\n",
              "  </svg>\n",
              "      </button>\n",
              "      \n",
              "  <style>\n",
              "    .colab-df-container {\n",
              "      display:flex;\n",
              "      flex-wrap:wrap;\n",
              "      gap: 12px;\n",
              "    }\n",
              "\n",
              "    .colab-df-convert {\n",
              "      background-color: #E8F0FE;\n",
              "      border: none;\n",
              "      border-radius: 50%;\n",
              "      cursor: pointer;\n",
              "      display: none;\n",
              "      fill: #1967D2;\n",
              "      height: 32px;\n",
              "      padding: 0 0 0 0;\n",
              "      width: 32px;\n",
              "    }\n",
              "\n",
              "    .colab-df-convert:hover {\n",
              "      background-color: #E2EBFA;\n",
              "      box-shadow: 0px 1px 2px rgba(60, 64, 67, 0.3), 0px 1px 3px 1px rgba(60, 64, 67, 0.15);\n",
              "      fill: #174EA6;\n",
              "    }\n",
              "\n",
              "    [theme=dark] .colab-df-convert {\n",
              "      background-color: #3B4455;\n",
              "      fill: #D2E3FC;\n",
              "    }\n",
              "\n",
              "    [theme=dark] .colab-df-convert:hover {\n",
              "      background-color: #434B5C;\n",
              "      box-shadow: 0px 1px 3px 1px rgba(0, 0, 0, 0.15);\n",
              "      filter: drop-shadow(0px 1px 2px rgba(0, 0, 0, 0.3));\n",
              "      fill: #FFFFFF;\n",
              "    }\n",
              "  </style>\n",
              "\n",
              "      <script>\n",
              "        const buttonEl =\n",
              "          document.querySelector('#df-979cc65b-ae5b-44bd-8057-de04c94ba30d button.colab-df-convert');\n",
              "        buttonEl.style.display =\n",
              "          google.colab.kernel.accessAllowed ? 'block' : 'none';\n",
              "\n",
              "        async function convertToInteractive(key) {\n",
              "          const element = document.querySelector('#df-979cc65b-ae5b-44bd-8057-de04c94ba30d');\n",
              "          const dataTable =\n",
              "            await google.colab.kernel.invokeFunction('convertToInteractive',\n",
              "                                                     [key], {});\n",
              "          if (!dataTable) return;\n",
              "\n",
              "          const docLinkHtml = 'Like what you see? Visit the ' +\n",
              "            '<a target=\"_blank\" href=https://colab.research.google.com/notebooks/data_table.ipynb>data table notebook</a>'\n",
              "            + ' to learn more about interactive tables.';\n",
              "          element.innerHTML = '';\n",
              "          dataTable['output_type'] = 'display_data';\n",
              "          await google.colab.output.renderOutput(dataTable, element);\n",
              "          const docLink = document.createElement('div');\n",
              "          docLink.innerHTML = docLinkHtml;\n",
              "          element.appendChild(docLink);\n",
              "        }\n",
              "      </script>\n",
              "    </div>\n",
              "  </div>\n",
              "  "
            ]
          },
          "metadata": {},
          "execution_count": 506
        }
      ],
      "source": [
        "flights_df.groupby(['UniqueCarrier','FlightNum'])\\\n",
        "  .agg({'Distance': [np.mean, np.sum, 'count'],\n",
        "        'Cancelled': np.sum})\\\n",
        "  .sort_values(('Distance', 'sum'), ascending=False)\\\n",
        "  .iloc[0:3]"
      ]
    },
    {
      "cell_type": "markdown",
      "metadata": {
        "id": "UAvm_tQxU6_Z"
      },
      "source": [
        "**Number of flights by days of week and months:**"
      ]
    },
    {
      "cell_type": "code",
      "execution_count": null,
      "metadata": {
        "id": "9r0cfFxtU6_a",
        "colab": {
          "base_uri": "https://localhost:8080/",
          "height": 206
        },
        "outputId": "fee8c4d5-fadf-4f48-ae51-38fe7966c796"
      },
      "outputs": [
        {
          "output_type": "execute_result",
          "data": {
            "text/plain": [
              "DayOfWeek       1       2       3       4       5      6      7\n",
              "Month                                                          \n",
              "1           80807   97298  100080  102043   81940  67178  76419\n",
              "2           81504   79700   80587   82158  102726  66462  76099\n",
              "3          103210   81159   82307   82831   82936  86153  97494\n",
              "4           82463  100785  102586   82799   82964  68304  78225"
            ],
            "text/html": [
              "\n",
              "  <div id=\"df-48dcfb27-8ae2-4b33-a1b2-16ea529b5401\">\n",
              "    <div class=\"colab-df-container\">\n",
              "      <div>\n",
              "<style scoped>\n",
              "    .dataframe tbody tr th:only-of-type {\n",
              "        vertical-align: middle;\n",
              "    }\n",
              "\n",
              "    .dataframe tbody tr th {\n",
              "        vertical-align: top;\n",
              "    }\n",
              "\n",
              "    .dataframe thead th {\n",
              "        text-align: right;\n",
              "    }\n",
              "</style>\n",
              "<table border=\"1\" class=\"dataframe\">\n",
              "  <thead>\n",
              "    <tr style=\"text-align: right;\">\n",
              "      <th>DayOfWeek</th>\n",
              "      <th>1</th>\n",
              "      <th>2</th>\n",
              "      <th>3</th>\n",
              "      <th>4</th>\n",
              "      <th>5</th>\n",
              "      <th>6</th>\n",
              "      <th>7</th>\n",
              "    </tr>\n",
              "    <tr>\n",
              "      <th>Month</th>\n",
              "      <th></th>\n",
              "      <th></th>\n",
              "      <th></th>\n",
              "      <th></th>\n",
              "      <th></th>\n",
              "      <th></th>\n",
              "      <th></th>\n",
              "    </tr>\n",
              "  </thead>\n",
              "  <tbody>\n",
              "    <tr>\n",
              "      <th>1</th>\n",
              "      <td>80807</td>\n",
              "      <td>97298</td>\n",
              "      <td>100080</td>\n",
              "      <td>102043</td>\n",
              "      <td>81940</td>\n",
              "      <td>67178</td>\n",
              "      <td>76419</td>\n",
              "    </tr>\n",
              "    <tr>\n",
              "      <th>2</th>\n",
              "      <td>81504</td>\n",
              "      <td>79700</td>\n",
              "      <td>80587</td>\n",
              "      <td>82158</td>\n",
              "      <td>102726</td>\n",
              "      <td>66462</td>\n",
              "      <td>76099</td>\n",
              "    </tr>\n",
              "    <tr>\n",
              "      <th>3</th>\n",
              "      <td>103210</td>\n",
              "      <td>81159</td>\n",
              "      <td>82307</td>\n",
              "      <td>82831</td>\n",
              "      <td>82936</td>\n",
              "      <td>86153</td>\n",
              "      <td>97494</td>\n",
              "    </tr>\n",
              "    <tr>\n",
              "      <th>4</th>\n",
              "      <td>82463</td>\n",
              "      <td>100785</td>\n",
              "      <td>102586</td>\n",
              "      <td>82799</td>\n",
              "      <td>82964</td>\n",
              "      <td>68304</td>\n",
              "      <td>78225</td>\n",
              "    </tr>\n",
              "  </tbody>\n",
              "</table>\n",
              "</div>\n",
              "      <button class=\"colab-df-convert\" onclick=\"convertToInteractive('df-48dcfb27-8ae2-4b33-a1b2-16ea529b5401')\"\n",
              "              title=\"Convert this dataframe to an interactive table.\"\n",
              "              style=\"display:none;\">\n",
              "        \n",
              "  <svg xmlns=\"http://www.w3.org/2000/svg\" height=\"24px\"viewBox=\"0 0 24 24\"\n",
              "       width=\"24px\">\n",
              "    <path d=\"M0 0h24v24H0V0z\" fill=\"none\"/>\n",
              "    <path d=\"M18.56 5.44l.94 2.06.94-2.06 2.06-.94-2.06-.94-.94-2.06-.94 2.06-2.06.94zm-11 1L8.5 8.5l.94-2.06 2.06-.94-2.06-.94L8.5 2.5l-.94 2.06-2.06.94zm10 10l.94 2.06.94-2.06 2.06-.94-2.06-.94-.94-2.06-.94 2.06-2.06.94z\"/><path d=\"M17.41 7.96l-1.37-1.37c-.4-.4-.92-.59-1.43-.59-.52 0-1.04.2-1.43.59L10.3 9.45l-7.72 7.72c-.78.78-.78 2.05 0 2.83L4 21.41c.39.39.9.59 1.41.59.51 0 1.02-.2 1.41-.59l7.78-7.78 2.81-2.81c.8-.78.8-2.07 0-2.86zM5.41 20L4 18.59l7.72-7.72 1.47 1.35L5.41 20z\"/>\n",
              "  </svg>\n",
              "      </button>\n",
              "      \n",
              "  <style>\n",
              "    .colab-df-container {\n",
              "      display:flex;\n",
              "      flex-wrap:wrap;\n",
              "      gap: 12px;\n",
              "    }\n",
              "\n",
              "    .colab-df-convert {\n",
              "      background-color: #E8F0FE;\n",
              "      border: none;\n",
              "      border-radius: 50%;\n",
              "      cursor: pointer;\n",
              "      display: none;\n",
              "      fill: #1967D2;\n",
              "      height: 32px;\n",
              "      padding: 0 0 0 0;\n",
              "      width: 32px;\n",
              "    }\n",
              "\n",
              "    .colab-df-convert:hover {\n",
              "      background-color: #E2EBFA;\n",
              "      box-shadow: 0px 1px 2px rgba(60, 64, 67, 0.3), 0px 1px 3px 1px rgba(60, 64, 67, 0.15);\n",
              "      fill: #174EA6;\n",
              "    }\n",
              "\n",
              "    [theme=dark] .colab-df-convert {\n",
              "      background-color: #3B4455;\n",
              "      fill: #D2E3FC;\n",
              "    }\n",
              "\n",
              "    [theme=dark] .colab-df-convert:hover {\n",
              "      background-color: #434B5C;\n",
              "      box-shadow: 0px 1px 3px 1px rgba(0, 0, 0, 0.15);\n",
              "      filter: drop-shadow(0px 1px 2px rgba(0, 0, 0, 0.3));\n",
              "      fill: #FFFFFF;\n",
              "    }\n",
              "  </style>\n",
              "\n",
              "      <script>\n",
              "        const buttonEl =\n",
              "          document.querySelector('#df-48dcfb27-8ae2-4b33-a1b2-16ea529b5401 button.colab-df-convert');\n",
              "        buttonEl.style.display =\n",
              "          google.colab.kernel.accessAllowed ? 'block' : 'none';\n",
              "\n",
              "        async function convertToInteractive(key) {\n",
              "          const element = document.querySelector('#df-48dcfb27-8ae2-4b33-a1b2-16ea529b5401');\n",
              "          const dataTable =\n",
              "            await google.colab.kernel.invokeFunction('convertToInteractive',\n",
              "                                                     [key], {});\n",
              "          if (!dataTable) return;\n",
              "\n",
              "          const docLinkHtml = 'Like what you see? Visit the ' +\n",
              "            '<a target=\"_blank\" href=https://colab.research.google.com/notebooks/data_table.ipynb>data table notebook</a>'\n",
              "            + ' to learn more about interactive tables.';\n",
              "          element.innerHTML = '';\n",
              "          dataTable['output_type'] = 'display_data';\n",
              "          await google.colab.output.renderOutput(dataTable, element);\n",
              "          const docLink = document.createElement('div');\n",
              "          docLink.innerHTML = docLinkHtml;\n",
              "          element.appendChild(docLink);\n",
              "        }\n",
              "      </script>\n",
              "    </div>\n",
              "  </div>\n",
              "  "
            ]
          },
          "metadata": {},
          "execution_count": 507
        }
      ],
      "source": [
        "pd.crosstab(flights_df.Month, flights_df.DayOfWeek)"
      ]
    },
    {
      "cell_type": "markdown",
      "metadata": {
        "id": "79n1DhjQU6_b"
      },
      "source": [
        "**It can also be handy to color such tables in order to easily notice outliers:**"
      ]
    },
    {
      "cell_type": "code",
      "execution_count": null,
      "metadata": {
        "colab": {
          "base_uri": "https://localhost:8080/",
          "height": 243
        },
        "id": "_s3qVCilU6_c",
        "scrolled": true,
        "outputId": "27319528-6339-427c-828e-5c8f45efb356"
      },
      "outputs": [
        {
          "output_type": "display_data",
          "data": {
            "text/plain": [
              "<Figure size 432x288 with 1 Axes>"
            ],
            "image/png": "[encoded data removed]"
          },
          "metadata": {
            "needs_background": "light"
          }
        }
      ],
      "source": [
        "plt.imshow(pd.crosstab(flights_df.Month, flights_df.DayOfWeek),\n",
        "           cmap='seismic', interpolation='none');"
      ]
    },
    {
      "cell_type": "markdown",
      "metadata": {
        "id": "3_QmgbISU6_c"
      },
      "source": [
        "**Flight distance histogram:**"
      ]
    },
    {
      "cell_type": "code",
      "execution_count": null,
      "metadata": {
        "colab": {
          "base_uri": "https://localhost:8080/",
          "height": 281
        },
        "id": "xnUx7xiEU6_d",
        "scrolled": false,
        "outputId": "702fb6b6-1ace-4310-f7b9-71d0f1414a60"
      },
      "outputs": [
        {
          "output_type": "display_data",
          "data": {
            "text/plain": [
              "<Figure size 432x288 with 1 Axes>"
            ],
            "image/png": "[encoded data removed]"
          },
          "metadata": {
            "needs_background": "light"
          }
        }
      ],
      "source": [
        "flights_df.hist('Distance', bins=20);"
      ]
    },
    {
      "cell_type": "markdown",
      "metadata": {
        "id": "eUQ2e8ZSU6_e"
      },
      "source": [
        "**Making a histogram of flight frequency by date.**"
      ]
    },
    {
      "cell_type": "code",
      "execution_count": null,
      "metadata": {
        "id": "Cgs874KSU6_e"
      },
      "outputs": [],
      "source": [
        "flights_df['Date'] = pd.to_datetime(flights_df.rename(\n",
        "    columns={'DayofMonth': 'Day'})[['Year', 'Month', 'Day']])"
      ]
    },
    {
      "cell_type": "code",
      "execution_count": null,
      "metadata": {
        "id": "0CBqFcJ2U6_f"
      },
      "outputs": [],
      "source": [
        "num_flights_by_date = flights_df.groupby('Date').size()"
      ]
    },
    {
      "cell_type": "code",
      "execution_count": null,
      "metadata": {
        "colab": {
          "base_uri": "https://localhost:8080/",
          "height": 308
        },
        "id": "HOLoSOIUU6_f",
        "scrolled": true,
        "outputId": "fc86296d-2f36-4fbc-fad1-66a184370a03"
      },
      "outputs": [
        {
          "output_type": "execute_result",
          "data": {
            "text/plain": [
              "<Axes: xlabel='Date'>"
            ]
          },
          "metadata": {},
          "execution_count": 512
        },
        {
          "output_type": "display_data",
          "data": {
            "text/plain": [
              "<Figure size 432x288 with 1 Axes>"
            ],
            "image/png": "[encoded data removed]"
          },
          "metadata": {
            "needs_background": "light"
          }
        }
      ],
      "source": [
        "num_flights_by_date.plot()"
      ]
    },
    {
      "cell_type": "markdown",
      "metadata": {
        "id": "YreM3cqvU6_g"
      },
      "source": [
        "**Do you see a weekly pattern above? And below?**"
      ]
    },
    {
      "cell_type": "code",
      "execution_count": null,
      "metadata": {
        "colab": {
          "base_uri": "https://localhost:8080/",
          "height": 308
        },
        "id": "Zzg5iYoGU6_g",
        "outputId": "e255fa19-45ba-478f-fc70-dc593a913330"
      },
      "outputs": [
        {
          "output_type": "execute_result",
          "data": {
            "text/plain": [
              "<Axes: xlabel='Date'>"
            ]
          },
          "metadata": {},
          "execution_count": 513
        },
        {
          "output_type": "display_data",
          "data": {
            "text/plain": [
              "<Figure size 432x288 with 1 Axes>"
            ],
            "image/png": "[encoded data removed]"
          },
          "metadata": {
            "needs_background": "light"
          }
        }
      ],
      "source": [
        "num_flights_by_date.rolling(window=7).mean().plot()"
      ]
    },
    {
      "cell_type": "markdown",
      "metadata": {
        "id": "UOrMqpkKU6_g"
      },
      "source": [
        "### Now it's your turn. Answer the questions below.\n",
        "\n",
        "##### The next 20 questions is going to be very tasking so get ready, but don't worry it's easy"
      ]
    },
    {
      "cell_type": "markdown",
      "metadata": {
        "id": "L8zS6z17U6_g"
      },
      "source": [
        "**1. How many unique carriers are there in our dataset?**\n",
        "- 10\n",
        "- 15\n",
        "- 20\n",
        "- 25\n",
        "\n"
      ]
    },
    {
      "cell_type": "code",
      "execution_count": null,
      "metadata": {
        "colab": {
          "base_uri": "https://localhost:8080/"
        },
        "id": "ysrKWosAU6_h",
        "outputId": "88f4ada8-cf18-4e9f-cdef-7b60599f64a8"
      },
      "outputs": [
        {
          "output_type": "execute_result",
          "data": {
            "text/plain": [
              "20"
            ]
          },
          "metadata": {},
          "execution_count": 514
        }
      ],
      "source": [
        "# You code here\n",
        "#Question 1\n",
        "flights_df['UniqueCarrier'].nunique()"
      ]
    },
    {
      "cell_type": "markdown",
      "metadata": {
        "id": "nGWh7GvsU6_h"
      },
      "source": [
        "**2. We have  both cancelled and completed flights in the datset. Check if there are more completed or cancelled flights. What is the difference?** <br>\n",
        "\n",
        "*Hint:* Take a look at *Cancelled* to see the categories and *FlightNum* column to calculate unique flights for each category.\n",
        "\n",
        "- Cancelled overweights completed by 329\n",
        "\n",
        "- flightsCompleted overweights cancelled by 2260333\n",
        "\n",
        "- flightsCancelled overweights completed by 671\n",
        "\n",
        "- flightsCompleted overweights cancelled by 11088967 flights\n"
      ]
    },
    {
      "cell_type": "code",
      "execution_count": null,
      "metadata": {
        "colab": {
          "base_uri": "https://localhost:8080/"
        },
        "id": "I4zIV1ssVfsk",
        "outputId": "525bb742-57ee-42de-ac42-1519b6c3ed22"
      },
      "outputs": [
        {
          "output_type": "stream",
          "name": "stdout",
          "text": [
            "Completed overweights cancelled by 2260333 flights\n"
          ]
        }
      ],
      "source": [
        "#Question 2\n",
        "#cancelled flights =(['Cancelled'] == 1)\n",
        "#completed flights = (['Cancelled'] == 0)\n",
        "can_df = flights_df.groupby('Cancelled')['FlightNum'].count()\n",
        "diff_of_cancelled = can_df[0] - can_df[1]\n",
        "print(f\"Completed overweights cancelled by {diff_of_cancelled} flights\")"
      ]
    },
    {
      "cell_type": "markdown",
      "metadata": {
        "id": "47V3HSAPU6_h"
      },
      "source": [
        "**3. Find a flight with the longest departure delays and a flight with the longest arrival delay. Do they have the same destination airport, and if yes, what is its code?**\n",
        "- yes, ATL\n",
        "- yes, HNL\n",
        "- yes, MSP\n",
        "- no\n"
      ]
    },
    {
      "cell_type": "code",
      "execution_count": null,
      "metadata": {
        "colab": {
          "base_uri": "https://localhost:8080/"
        },
        "id": "gf2epxX5efvS",
        "outputId": "88beb637-d87e-475f-e41b-a195106ebbc1"
      },
      "outputs": [
        {
          "output_type": "stream",
          "name": "stdout",
          "text": [
            "MSP is the code of the flight with the longest departure time(2468.0) and longest arrival time delay(2460.0)\n"
          ]
        }
      ],
      "source": [
        "#Question 3\n",
        "longest_dd = flights_df['DepDelay'].max()\n",
        "longest_ad = flights_df['ArrDelay'].max()\n",
        "air_code1= flights_df['Dest'][(flights_df['DepDelay'] == longest_dd)].iloc[0]\n",
        "air_code2 = flights_df['Dest'][(flights_df['ArrDelay'] == longest_ad)].iloc[0]\n",
        "code = air_code1\n",
        "if air_code1 == air_code2:\n",
        "  print(f\"{code} is the code of the flight with the longest departure time({longest_dd}) and longest arrival time delay({longest_ad})\")\n"
      ]
    },
    {
      "cell_type": "markdown",
      "metadata": {
        "id": "RmBCt4eXU6_i"
      },
      "source": [
        "**4. Find the carrier that has the greatest number of cancelled flights.**\n",
        "\n",
        "- AA\n",
        "\n",
        "- MQ\n",
        "\n",
        "- WN\n",
        "\n",
        "- CO\n"
      ]
    },
    {
      "cell_type": "code",
      "execution_count": null,
      "metadata": {
        "colab": {
          "base_uri": "https://localhost:8080/"
        },
        "id": "RLdmnogdU6_h",
        "outputId": "4582a2ee-c2c2-4dd0-fdcf-92fe6801e1a3"
      },
      "outputs": [
        {
          "output_type": "stream",
          "name": "stdout",
          "text": [
            "AA    10784\n",
            "MQ     8960\n",
            "OO     6773\n",
            "YV     5150\n",
            "UA     4616\n",
            "Name: UniqueCarrier, dtype: int64\n",
            "\n",
            "The carrier with the most flights is AA with 10784 flights\n"
          ]
        }
      ],
      "source": [
        "# You code here\n",
        "#Question 4\n",
        "canfl = flights_df['Cancelled'] == 1\n",
        "highest_can_flg = flights_df[canfl]['UniqueCarrier'].value_counts()\n",
        "index = highest_can_flg.index[0]\n",
        "total_num = highest_can_flg.values[0]\n",
        "print(highest_can_flg.head())\n",
        "print(f\"\\nThe carrier with the most flights is {index} with {total_num} flights\")"
      ]
    },
    {
      "cell_type": "markdown",
      "metadata": {
        "id": "SPyZueg7U6_i"
      },
      "source": [
        "**5. Let's examine departure time (*DepTime* column). Let's see how all flights are distributed by time. For simplicity, consider distribution by hour. Which hour has the highest percentage of flights?**<br>\n",
        "\n",
        "\n",
        "*Hint:* Check time format [here](https://www.transtats.bts.gov/Fields.asp?Table_ID=236).\n",
        "- 1 am\n",
        "- 6 am\n",
        "- 11 am\n",
        "- 3 pm"
      ]
    },
    {
      "cell_type": "code",
      "execution_count": null,
      "metadata": {
        "colab": {
          "base_uri": "https://localhost:8080/"
        },
        "id": "cYkQ9KcSU6_i",
        "outputId": "e13e314a-a7cf-4866-de34-4ff361f68433"
      },
      "outputs": [
        {
          "output_type": "stream",
          "name": "stdout",
          "text": [
            "The hour with the highest percentage of flights is 6AM with a percentage of 6.303027%\n"
          ]
        }
      ],
      "source": [
        "# You code here\n",
        "#Question 5\n",
        "#converting the data type of flights_df to suitable one's\n",
        "new = flights_df.convert_dtypes()\n",
        "#changing the data type of DepTime column to string python type\n",
        "flight = new.astype({'DepTime':str})\n",
        "\n",
        "def get_time(b):\n",
        "  \"\"\"Function to create a 24hr format time series with string dtype\n",
        "     parameter: b is the column of the dataframe that was passed for the fucntion to work with\n",
        "  \"\"\"\n",
        "  if b == 'NaN':\n",
        "    return 0\n",
        "  elif b != 'NaN':\n",
        "    st_b = b[0:-2]\n",
        "    if (st_b >= '12') and (st_b <= '23'):\n",
        "      return b[:-2]+'PM'\n",
        "    elif b[:-2] == '00':\n",
        "      return '12AM'\n",
        "    elif b[:-2] == '24':\n",
        "      return '12AM'\n",
        "    else:\n",
        "      return b[:-2]+'AM'\n",
        "\n",
        "def time_format(c):\n",
        "  \"\"\"Function to create a 12hr format time series from a 24hrs time series with string dtype\n",
        "     parameter: c is the column of the dataframe that was passed for the fucntion to work with \n",
        "     body: an if-elif-else statement is used to check for various condition to \n",
        "     determine if a record is AM or PM\n",
        "     return: the time in a correct 12hr format is returned \"\"\"\n",
        "\n",
        "  k = c[:-2]\n",
        "\n",
        "  if k == '13':\n",
        "    return '1PM'\n",
        "  elif k == '14':\n",
        "    return '2PM'\n",
        "  elif k == '15':\n",
        "    return '3PM'\n",
        "  elif k == '16':\n",
        "    return '4PM'\n",
        "  elif k == '17':\n",
        "    return '5PM'\n",
        "  elif k == '18':\n",
        "    return '6PM'\n",
        "  elif k == '19':\n",
        "    return '7PM'    \n",
        "  elif k == '20':\n",
        "    return '8PM'\n",
        "  elif k == '21':\n",
        "    return '9PM'\n",
        "  elif k == '22':\n",
        "    return '10PM'\n",
        "  elif k == '23':\n",
        "    return '11PM'\n",
        "  else:\n",
        "    return c\n",
        "\n",
        "\n",
        "flights_df['12hr_TimeFormat'] = flight['DepTime'].apply(get_time)\n",
        "\n",
        "flights_df['12hr_TimeFormat'] = flights_df['12hr_TimeFormat'].apply(time_format)\n",
        "\n",
        "distinct = flights_df['12hr_TimeFormat'].value_counts()\n",
        "percent_time = (distinct/sum(distinct))*100\n",
        "print(f\"The hour with the highest percentage of flights is {percent_time.idxmax()} with a percentage of {percent_time.max():1f}%\")\n"
      ]
    },
    {
      "cell_type": "markdown",
      "metadata": {
        "id": "LtnGWd4AU6_i"
      },
      "source": [
        "**6. OK, now let's examine cancelled flight distribution by month. Which month has the least percentage of cancelled flights?**<br>\n",
        "\n",
        "- 4\n",
        "- 9\n",
        "- 10\n",
        "- 2"
      ]
    },
    {
      "cell_type": "code",
      "execution_count": null,
      "metadata": {
        "colab": {
          "base_uri": "https://localhost:8080/"
        },
        "id": "_hveJpe1U6_i",
        "outputId": "47d070ea-8bae-4e13-a105-b9c31051186d"
      },
      "outputs": [
        {
          "output_type": "stream",
          "name": "stdout",
          "text": [
            "The month with the least percentage of cancelled flights is 4 with a percentage of 6.974520%\n"
          ]
        }
      ],
      "source": [
        "# You code here\n",
        "#Question 6\n",
        "\n",
        "fl_cancelled = flights_df[flights_df['Cancelled'] == 1]\n",
        "count = fl_cancelled['Month'].value_counts()\n",
        "percent_month = (count/sum(fl_cancelled['Month']))*100\n",
        "print(f\"The month with the least percentage of cancelled flights is {percent_month.idxmin()} with a percentage of {percent_month.min():2f}%\")"
      ]
    },
    {
      "cell_type": "markdown",
      "metadata": {
        "id": "drVTiC39U6_j"
      },
      "source": [
        "**7. Is there any month that didn't have any cancelled flights at all? Check all that apply.**\n",
        "\n",
        "- 5\n",
        "- 12\n",
        "- 3\n",
        "- 7"
      ]
    },
    {
      "cell_type": "code",
      "execution_count": null,
      "metadata": {
        "colab": {
          "base_uri": "https://localhost:8080/"
        },
        "id": "CZTH5aXCU6_i",
        "outputId": "9a3274fa-42f2-4f8d-c983-b863fdd8a63b"
      },
      "outputs": [
        {
          "output_type": "stream",
          "name": "stdout",
          "text": [
            "the months that have cancelled flights are: [1, 2, 3, 4]\n"
          ]
        }
      ],
      "source": [
        "# You code here\n",
        "#Question 7\n",
        "flights_df.head()\n",
        "fl_cancel = flights_df[flights_df['Cancelled'] == 1]\n",
        "count = fl_cancel['Month'].unique()\n",
        "print(f\"the months that have cancelled flights are: {list(count)}\")"
      ]
    },
    {
      "cell_type": "markdown",
      "metadata": {
        "id": "U9tKK6W-U6_j"
      },
      "source": [
        "**8. Find the busiest hour, or in other words, the hour when the number of departed flights reaches its maximum.**<br>\n",
        "\n",
        "\n",
        "*Hint:* Consider only *completed* flights.\n",
        "\n",
        "- 4\n",
        "- 6\n",
        "- 8\n",
        "- 17"
      ]
    },
    {
      "cell_type": "code",
      "execution_count": null,
      "metadata": {
        "colab": {
          "base_uri": "https://localhost:8080/"
        },
        "id": "mnHHQcmVU6_j",
        "outputId": "f64826f0-ff4a-4537-968b-732218291cae"
      },
      "outputs": [
        {
          "output_type": "execute_result",
          "data": {
            "text/plain": [
              "600.0"
            ]
          },
          "metadata": {},
          "execution_count": 521
        }
      ],
      "source": [
        "# You code here\n",
        "#Question 8\n",
        "hour = flights_df['Cancelled'] == 0\n",
        "hour_highest_count = flights_df[hour]['DepTime'].value_counts().head().index[0]#[:-2]\n",
        "hour_highest_count"
      ]
    },
    {
      "cell_type": "markdown",
      "metadata": {
        "id": "j0TlZ93DU6_j"
      },
      "source": [
        "**9. Since we know the departure hour, it might be interesting to examine the average delay for corresponding hour. Are there any cases, when the planes on average departed earlier than they should have done? And if yes, at what departure hours did it happen?**<br>\n",
        "\n",
        "*Hint:* Consider only *completed* flights.\n",
        "\n",
        "- no, there are no such cases\n",
        "- yes, at 5-7 am\n",
        "- yes, at 9-11 am\n",
        "- yes, at 1-3 pm"
      ]
    },
    {
      "cell_type": "code",
      "execution_count": null,
      "metadata": {
        "colab": {
          "base_uri": "https://localhost:8080/",
          "height": 175
        },
        "id": "D_jizCweo1a_",
        "outputId": "274b6e70-443b-424d-f79c-f7010fc13524"
      },
      "outputs": [
        {
          "output_type": "execute_result",
          "data": {
            "text/plain": [
              "                 DepDelay\n",
              "12hr_TimeFormat          \n",
              "5AM             -4.332031\n",
              "6AM             -1.343750\n",
              "7AM              0.755371"
            ],
            "text/html": [
              "\n",
              "  <div id=\"df-26a316a5-a919-4a45-9aff-ff80566fcc9c\">\n",
              "    <div class=\"colab-df-container\">\n",
              "      <div>\n",
              "<style scoped>\n",
              "    .dataframe tbody tr th:only-of-type {\n",
              "        vertical-align: middle;\n",
              "    }\n",
              "\n",
              "    .dataframe tbody tr th {\n",
              "        vertical-align: top;\n",
              "    }\n",
              "\n",
              "    .dataframe thead th {\n",
              "        text-align: right;\n",
              "    }\n",
              "</style>\n",
              "<table border=\"1\" class=\"dataframe\">\n",
              "  <thead>\n",
              "    <tr style=\"text-align: right;\">\n",
              "      <th></th>\n",
              "      <th>DepDelay</th>\n",
              "    </tr>\n",
              "    <tr>\n",
              "      <th>12hr_TimeFormat</th>\n",
              "      <th></th>\n",
              "    </tr>\n",
              "  </thead>\n",
              "  <tbody>\n",
              "    <tr>\n",
              "      <th>5AM</th>\n",
              "      <td>-4.332031</td>\n",
              "    </tr>\n",
              "    <tr>\n",
              "      <th>6AM</th>\n",
              "      <td>-1.343750</td>\n",
              "    </tr>\n",
              "    <tr>\n",
              "      <th>7AM</th>\n",
              "      <td>0.755371</td>\n",
              "    </tr>\n",
              "  </tbody>\n",
              "</table>\n",
              "</div>\n",
              "      <button class=\"colab-df-convert\" onclick=\"convertToInteractive('df-26a316a5-a919-4a45-9aff-ff80566fcc9c')\"\n",
              "              title=\"Convert this dataframe to an interactive table.\"\n",
              "              style=\"display:none;\">\n",
              "        \n",
              "  <svg xmlns=\"http://www.w3.org/2000/svg\" height=\"24px\"viewBox=\"0 0 24 24\"\n",
              "       width=\"24px\">\n",
              "    <path d=\"M0 0h24v24H0V0z\" fill=\"none\"/>\n",
              "    <path d=\"M18.56 5.44l.94 2.06.94-2.06 2.06-.94-2.06-.94-.94-2.06-.94 2.06-2.06.94zm-11 1L8.5 8.5l.94-2.06 2.06-.94-2.06-.94L8.5 2.5l-.94 2.06-2.06.94zm10 10l.94 2.06.94-2.06 2.06-.94-2.06-.94-.94-2.06-.94 2.06-2.06.94z\"/><path d=\"M17.41 7.96l-1.37-1.37c-.4-.4-.92-.59-1.43-.59-.52 0-1.04.2-1.43.59L10.3 9.45l-7.72 7.72c-.78.78-.78 2.05 0 2.83L4 21.41c.39.39.9.59 1.41.59.51 0 1.02-.2 1.41-.59l7.78-7.78 2.81-2.81c.8-.78.8-2.07 0-2.86zM5.41 20L4 18.59l7.72-7.72 1.47 1.35L5.41 20z\"/>\n",
              "  </svg>\n",
              "      </button>\n",
              "      \n",
              "  <style>\n",
              "    .colab-df-container {\n",
              "      display:flex;\n",
              "      flex-wrap:wrap;\n",
              "      gap: 12px;\n",
              "    }\n",
              "\n",
              "    .colab-df-convert {\n",
              "      background-color: #E8F0FE;\n",
              "      border: none;\n",
              "      border-radius: 50%;\n",
              "      cursor: pointer;\n",
              "      display: none;\n",
              "      fill: #1967D2;\n",
              "      height: 32px;\n",
              "      padding: 0 0 0 0;\n",
              "      width: 32px;\n",
              "    }\n",
              "\n",
              "    .colab-df-convert:hover {\n",
              "      background-color: #E2EBFA;\n",
              "      box-shadow: 0px 1px 2px rgba(60, 64, 67, 0.3), 0px 1px 3px 1px rgba(60, 64, 67, 0.15);\n",
              "      fill: #174EA6;\n",
              "    }\n",
              "\n",
              "    [theme=dark] .colab-df-convert {\n",
              "      background-color: #3B4455;\n",
              "      fill: #D2E3FC;\n",
              "    }\n",
              "\n",
              "    [theme=dark] .colab-df-convert:hover {\n",
              "      background-color: #434B5C;\n",
              "      box-shadow: 0px 1px 3px 1px rgba(0, 0, 0, 0.15);\n",
              "      filter: drop-shadow(0px 1px 2px rgba(0, 0, 0, 0.3));\n",
              "      fill: #FFFFFF;\n",
              "    }\n",
              "  </style>\n",
              "\n",
              "      <script>\n",
              "        const buttonEl =\n",
              "          document.querySelector('#df-26a316a5-a919-4a45-9aff-ff80566fcc9c button.colab-df-convert');\n",
              "        buttonEl.style.display =\n",
              "          google.colab.kernel.accessAllowed ? 'block' : 'none';\n",
              "\n",
              "        async function convertToInteractive(key) {\n",
              "          const element = document.querySelector('#df-26a316a5-a919-4a45-9aff-ff80566fcc9c');\n",
              "          const dataTable =\n",
              "            await google.colab.kernel.invokeFunction('convertToInteractive',\n",
              "                                                     [key], {});\n",
              "          if (!dataTable) return;\n",
              "\n",
              "          const docLinkHtml = 'Like what you see? Visit the ' +\n",
              "            '<a target=\"_blank\" href=https://colab.research.google.com/notebooks/data_table.ipynb>data table notebook</a>'\n",
              "            + ' to learn more about interactive tables.';\n",
              "          element.innerHTML = '';\n",
              "          dataTable['output_type'] = 'display_data';\n",
              "          await google.colab.output.renderOutput(dataTable, element);\n",
              "          const docLink = document.createElement('div');\n",
              "          docLink.innerHTML = docLinkHtml;\n",
              "          element.appendChild(docLink);\n",
              "        }\n",
              "      </script>\n",
              "    </div>\n",
              "  </div>\n",
              "  "
            ]
          },
          "metadata": {},
          "execution_count": 522
        }
      ],
      "source": [
        "#Question 9\n",
        "flights_completed_df = flights_df[flights_df['Cancelled'] == 0]\n",
        "l = pd.DataFrame(flights_completed_df.groupby('12hr_TimeFormat')['DepDelay'].mean())\n",
        "time_of_avgDD = l[l['DepDelay'].values < 1]\n",
        "time_of_avgDD"
      ]
    },
    {
      "cell_type": "markdown",
      "metadata": {
        "id": "KfGjRHFlU6_j"
      },
      "source": [
        "**10. Considering only the completed flights by the carrier, that you have found in Question 3, find the distribution of these flights by hour. At what time does the greatest number of its planes depart?**<br>\n",
        "\n",
        "*Hint:* Consider *all* flights.\n",
        "\n",
        "- at noon\n",
        "- at 6 am\n",
        "- at 8 pm\n",
        "- at 9 am"
      ]
    },
    {
      "cell_type": "code",
      "execution_count": null,
      "metadata": {
        "colab": {
          "base_uri": "https://localhost:8080/"
        },
        "id": "k85j6YMiOP4h",
        "outputId": "656a4138-c1e4-493f-c8fa-2c83d7fe0f87"
      },
      "outputs": [
        {
          "output_type": "execute_result",
          "data": {
            "text/plain": [
              "6AM     27475\n",
              "7AM     27447\n",
              "10AM    25919\n",
              "8AM     25501\n",
              "7PM     24969\n",
              "Name: 12hr_TimeFormat, dtype: int64"
            ]
          },
          "metadata": {},
          "execution_count": 523
        }
      ],
      "source": [
        "#Question 10\n",
        "completed_f = flights_df['Cancelled'] == 0\n",
        "flights_df[completed_f & (flights_df['UniqueCarrier'] == 'WN')]['12hr_TimeFormat'].value_counts().head()\n"
      ]
    },
    {
      "cell_type": "markdown",
      "metadata": {
        "id": "uoaoPLSMU6_k"
      },
      "source": [
        "**11. Find top-10 carriers in terms of the number of *completed* flights (_UniqueCarrier_ column)?**\n",
        "\n",
        "**Which of the listed below is _not_ in your top-10 list?**\n",
        "\n",
        "- DL\n",
        "- AA\n",
        "- OO\n",
        "- EV"
      ]
    },
    {
      "cell_type": "code",
      "execution_count": null,
      "metadata": {
        "colab": {
          "base_uri": "https://localhost:8080/"
        },
        "id": "xpeHNkgIU6_k",
        "outputId": "4422b681-6bae-4ada-95b2-38b3fa03c57f"
      },
      "outputs": [
        {
          "output_type": "execute_result",
          "data": {
            "text/plain": [
              "WN    394586\n",
              "AA    193735\n",
              "OO    188411\n",
              "MQ    158900\n",
              "US    151149\n",
              "UA    149420\n",
              "DL    148358\n",
              "XE    134832\n",
              "NW    121392\n",
              "CO    101618\n",
              "Name: UniqueCarrier, dtype: int64"
            ]
          },
          "metadata": {},
          "execution_count": 524
        }
      ],
      "source": [
        "# You code here\n",
        "#Question 11\n",
        "#completed_f is a variable that stores the boolean value of flight that was completed\n",
        "\n",
        "flights_df[completed_f]['UniqueCarrier'].value_counts().head(10)"
      ]
    },
    {
      "cell_type": "markdown",
      "metadata": {
        "id": "2qGogH3EU6_k"
      },
      "source": [
        "**12. Plot distributions of flight cancellation reasons (_CancellationCode_).**\n",
        "\n",
        "**What is the most frequent reason for flight cancellation? (Use this [link](https://www.transtats.bts.gov/Fields.asp?Table_ID=236) to translate codes into reasons)**\n",
        "\n",
        "- Carrier\n",
        "- Weather conditions\n",
        "- National Air System\n",
        "- Security reasons"
      ]
    },
    {
      "cell_type": "markdown",
      "metadata": {
        "id": "5Km7EVjOU6_n"
      },
      "source": [
        "#### A -  *Carrier*\n",
        "#### B -  *Weather*\n",
        "#### C - *National Air System*\n",
        "#### D - Security"
      ]
    },
    {
      "cell_type": "code",
      "execution_count": null,
      "metadata": {
        "colab": {
          "base_uri": "https://localhost:8080/",
          "height": 264
        },
        "id": "CI0LQoyRU6_k",
        "outputId": "ad834107-ccd5-4f6a-b1b3-2b761fc7a76e"
      },
      "outputs": [
        {
          "output_type": "display_data",
          "data": {
            "text/plain": [
              "<Figure size 432x288 with 1 Axes>"
            ],
            "image/png": "[encoded data removed]"
          },
          "metadata": {}
        }
      ],
      "source": [
        "# You code here\n",
        "#Question 12\n",
        "def canc_reason(flights_df):\n",
        "    if flights_df['CancellationCode'] == 'A':\n",
        "        return 'Carrier'\n",
        "    elif flights_df['CancellationCode'] == 'B':\n",
        "        return 'Weather'\n",
        "    elif flights_df['CancellationCode'] == 'C':\n",
        "        return 'National Air System'\n",
        "    elif flights_df['CancellationCode'] == 'D':\n",
        "      return 'Security'\n",
        "    else:\n",
        "      return flights_df['CancellationCode']\n",
        "flights_df['Cancellation_reason'] = flights_df.apply(canc_reason,axis=1)\n",
        "f_cancel_code = flights_df['Cancellation_reason'].value_counts()\n",
        "f_cancel_code.plot(kind='pie',autopct='%1.2f%%')\n",
        "plt.title('Cancellation_reason')\n",
        "plt.show()"
      ]
    },
    {
      "cell_type": "markdown",
      "metadata": {
        "id": "4NBQaW2LU6_l"
      },
      "source": [
        "**13. Which route is the most frequent, in terms of the number of flights?**\n",
        "\n",
        "*Hint: Take a look at _'Origin'_ and _'Dest'_ features. Consider _A->B_ and _B->A_ directions as _different_ routes)*\n",
        "\n",
        " - New-York – Washington (JFK-IAD)\n",
        " - San-Francisco – Los-Angeles (LAX-SFO)\n",
        " - San-Jose – Dallas (SJC-DFW)\n",
        " - New-York – San-Francisco (JFK-SFO)"
      ]
    },
    {
      "cell_type": "code",
      "execution_count": null,
      "metadata": {
        "colab": {
          "base_uri": "https://localhost:8080/"
        },
        "id": "2wlGLh3B-KM_",
        "outputId": "40c86b25-c2d8-4f0d-bc6a-6cd537129efe"
      },
      "outputs": [
        {
          "output_type": "stream",
          "name": "stdout",
          "text": [
            "route_dest-origin  route_origin-dest\n",
            "LAX-SFO            SFO-LAX              4686\n",
            "SFO-LAX            LAX-SFO              4557\n",
            "HNL-OGG            OGG-HNL              4321\n",
            "OGG-HNL            HNL-OGG              4198\n",
            "LAS-LAX            LAX-LAS              4142\n",
            "dtype: int64\n"
          ]
        }
      ],
      "source": [
        "#Question 13\n",
        "#Create two columns that have the flights route based on different directions i.e Origin->Dest,Dest->Origin\n",
        "flights_df['route_origin-dest'] = flights_df['Origin']+'-'+flights_df['Dest']\n",
        "flights_df['route_dest-origin'] = flights_df['Dest']+'-'+flights_df['Origin']\n",
        "\n",
        "print(flights_df[['route_dest-origin','route_origin-dest']].value_counts().head())"
      ]
    },
    {
      "cell_type": "markdown",
      "metadata": {
        "id": "hVDL586eU6_m"
      },
      "source": [
        "**14. Find top-5 delayed routes (count how many times they were delayed on departure). From all flights on these 5 routes, count all flights with weather conditions contributing to a delay.**\n",
        "\n",
        "_Hint_: consider only positive delays\n"
      ]
    },
    {
      "cell_type": "code",
      "source": [
        "# fd = flights_df[(flights_df['DepDelay'] > 15) & (flights_df['WeatherDelay'] > 15)]['route_dest-origin'].value_counts().head()\n",
        "# l_of_index1 = fd.index\n",
        "# fo = flights_df[(flights_df['DepDelay'] > 15) & (flights_df['WeatherDelay'] > 15)]['route_origin-dest'].value_counts().head()\n",
        "# l_of_index2 = fd.index\n",
        "# x = flights_df[(flights_df['route_dest-origin'].isin(l_of_index1))] #& (flights_df['route_dest-origin'].isin(l_of_index1))]\n",
        "# y = flights_df[(flights_df['route_origin-dest'].isin(l_of_index2))] #& (flights_df['route_origin-dest'].isin(l_of_index2))]\n",
        "# s_x = x[x['WeatherDelay'] > 15]['route_dest-origin'].count()\n",
        "# s_y = y[y['WeatherDelay'] > 15]['route_origin-dest'].count()\n",
        "# # s_x + s_y\n",
        "# s_x"
      ],
      "metadata": {
        "id": "v88FQKp0SRNl"
      },
      "execution_count": null,
      "outputs": []
    },
    {
      "cell_type": "code",
      "execution_count": null,
      "metadata": {
        "id": "-dyqnqehXNg0"
      },
      "outputs": [],
      "source": [
        "# from pandas.core.strings.accessor import F\n",
        "# fd = flights_df[(flights_df['DepDelay'] > 0)]['route_dest-origin'].value_counts().head()\n",
        "# l_of_index1 = fd.index\n",
        "# fo = flights_df[(flights_df['DepDelay'] > 0)]['route_origin-dest'].value_counts().head()\n",
        "# l_of_index2 = fd.index\n",
        "# x = flights_df[(flights_df['route_dest-origin'].isin(l_of_index1))] #& (flights_df['route_dest-origin'].isin(l_of_index1))]\n",
        "# y = flights_df[(flights_df['route_origin-dest'].isin(l_of_index2))] #& (flights_df['route_origin-dest'].isin(l_of_index2))]\n",
        "# s_x = x[x['WeatherDelay'] > 0]['FlightNum'].count().sum()\n",
        "# s_y = y[y['WeatherDelay'] > 0]['FlightNum'].count().sum()\n",
        "# s_x + s_y"
      ]
    },
    {
      "cell_type": "markdown",
      "metadata": {
        "id": "LEXLwsFhU6_m"
      },
      "source": [
        "**15. Examine the hourly distribution of departure times. For that, create a new series from DepTime, removing missing values.**\n"
      ]
    },
    {
      "cell_type": "code",
      "source": [
        "from scipy.stats import norm\n",
        "\n",
        "new_flights_df = flights_df.copy(deep=True)\n",
        "new_flights_df['hour_distri'] = new_flights_df['DepTime']\n",
        "new_flights_df.dropna(subset=['hour_distri'],inplace=True)\n",
        "#convert the data type to suitable type\n",
        "new_flights_df.convert_dtypes()\n",
        "new_flights_df['hour_distri'] = new_flights_df['hour_distri'].astype(object)\n",
        "new_flights_df['hour_distri'] = new_flights_df['hour_distri'].astype(int)\n",
        "new_flights_df['hour_distri'] = new_flights_df['hour_distri'].astype(str)\n",
        "#applying a function to extract only the hour \n",
        "new_flights_df['hour_distri'] = new_flights_df['hour_distri'].apply(lambda x: x.zfill(4))\n",
        "new_flights_df['hour_distri'] = new_flights_df['hour_distri'].apply(lambda x: x[:2])\n",
        "new_flights_df['hour_distri'] = new_flights_df.hour_distri.astype(int)\n",
        "# Generate histogram of new_flights_df['hour_distri'] column\n",
        "plt.hist(new_flights_df['hour_distri'], density=True)\n",
        "\n",
        "# Calculate the mean and standard deviation of new_flights_df['hour_distri'] column\n",
        "mean = new_flights_df['hour_distri'].mean()\n",
        "stdev = new_flights_df['hour_distri'].std()\n",
        "\n",
        "# Generate x-axis values\n",
        "x = np.linspace(new_flights_df['hour_distri'].min(), new_flights_df['hour_distri'].max(), 100)\n",
        "\n",
        "# Generate y-axis values for normal distribution with same mean and standard deviation as 'hour' column\n",
        "y = norm.pdf(x, mean, stdev)\n",
        "\n",
        "# Plot the line representing theoretical normal distribution\n",
        "plt.plot(x, y, 'g-', label='Normal Distribution')\n",
        "\n",
        "# Add legend\n",
        "plt.legend()\n",
        "\n",
        "# Show plot\n",
        "plt.show()"
      ],
      "metadata": {
        "colab": {
          "base_uri": "https://localhost:8080/",
          "height": 265
        },
        "id": "6G2bZ2lxEEyy",
        "outputId": "2d37296d-91ec-4898-e183-1b3dd69f662d"
      },
      "execution_count": null,
      "outputs": [
        {
          "output_type": "display_data",
          "data": {
            "text/plain": [
              "<Figure size 432x288 with 1 Axes>"
            ],
            "image/png": "[encoded data removed]"
          },
          "metadata": {
            "needs_background": "light"
          }
        }
      ]
    },
    {
      "cell_type": "markdown",
      "metadata": {
        "id": "ByBRQIV0U6_n"
      },
      "source": [
        "**16. Show how the number of flights changes through time (on the daily/weekly/monthly basis) and interpret the findings.**\n",
        "\n",
        "_Hint_: Look for official meteorological winter months for the Nothern Hemisphsere.\n",
        "Choose all correct statements:\n",
        "\n",
        "- The number of flights during weekends is less than during weekdays (working days).\n",
        "- The lowest number of flights is on Sunday.\n",
        "- There are less flights during winter than during summer.tion 1"
      ]
    },
    {
      "cell_type": "code",
      "source": [
        "def get_month_name(flights_df):\n",
        "  if flights_df['Month'] == 1:\n",
        "    return 'January'\n",
        "  elif flights_df['Month'] == 2:\n",
        "    return 'February'\n",
        "  elif flights_df['Month'] == 3:\n",
        "    return 'March'\n",
        "  elif flights_df['Month'] == 4:\n",
        "    return 'April'\n",
        "flights_df['months_name'] = flights_df.apply(get_month_name, axis=1)"
      ],
      "metadata": {
        "id": "-ZELdMAIcJYq"
      },
      "execution_count": null,
      "outputs": []
    },
    {
      "cell_type": "code",
      "execution_count": null,
      "metadata": {
        "colab": {
          "base_uri": "https://localhost:8080/",
          "height": 1000
        },
        "id": "yhgB9f1csoif",
        "outputId": "9747bbdd-c4c0-48ac-f7ef-42e2ba634ee8"
      },
      "outputs": [
        {
          "output_type": "display_data",
          "data": {
            "text/plain": [
              "<Figure size 432x288 with 1 Axes>"
            ],
            "image/png": "[encoded data removed]"
          },
          "metadata": {
            "needs_background": "light"
          }
        },
        {
          "output_type": "stream",
          "name": "stdout",
          "text": [
            "\n"
          ]
        },
        {
          "output_type": "display_data",
          "data": {
            "text/plain": [
              "<Figure size 432x288 with 1 Axes>"
            ],
            "image/png": "[encoded data removed]"
          },
          "metadata": {
            "needs_background": "light"
          }
        },
        {
          "output_type": "stream",
          "name": "stdout",
          "text": [
            "\n"
          ]
        },
        {
          "output_type": "display_data",
          "data": {
            "text/plain": [
              "<Figure size 432x288 with 1 Axes>"
            ],
            "image/png": "[encoded data removed]"
          },
          "metadata": {
            "needs_background": "light"
          }
        },
        {
          "output_type": "stream",
          "name": "stdout",
          "text": [
            "\n"
          ]
        },
        {
          "output_type": "display_data",
          "data": {
            "text/plain": [
              "<Figure size 432x288 with 1 Axes>"
            ],
            "image/png": "[encoded data removed]"
          },
          "metadata": {
            "needs_background": "light"
          }
        },
        {
          "output_type": "stream",
          "name": "stdout",
          "text": [
            "\n",
            "\n",
            "From the visualization above, we can infer the following:\n",
            "1.The number of flights during weekends is less than that of weekdays\n",
            "2.Saturday has the lowest number of flights\n",
            "\n"
          ]
        }
      ],
      "source": [
        "#Question 16\n",
        "plt.title('Daily Distribution')\n",
        "plt.ylabel('Count')\n",
        "flights_df.groupby('Date').size().plot()\n",
        "plt.show()\n",
        "print()\n",
        "plt.title('Weekly Distribution')\n",
        "plt.ylabel('Count')\n",
        "flights_df.groupby(pd.Grouper(key='Date', freq='W')).size().plot()\n",
        "plt.show()\n",
        "print()\n",
        "plt.title('Monthly Distribution')\n",
        "plt.ylabel('Count')\n",
        "flights_df.groupby(pd.Grouper(key='Date', freq='M')).size().plot()\n",
        "plt.show()\n",
        "print()\n",
        "\n",
        "#plotting of graph to show changes of flight through different time\n",
        "plt.title('Day Of Week')\n",
        "plt.ylabel('Count of day\\s')\n",
        "plt.plot(flights_df['DayOfWeek'].value_counts(),marker='o')\n",
        "plt.show()\n",
        "\n",
        "print(\"\"\"\\n\\nFrom the visualization above, we can infer the following:\n",
        "1.The number of flights during weekends is less than that of weekdays\n",
        "2.Saturday has the lowest number of flights\n",
        "\"\"\")"
      ]
    },
    {
      "cell_type": "markdown",
      "metadata": {
        "id": "SGAodv-PU6_n"
      },
      "source": [
        "**17. Examine the distribution of cancellation reasons with time. Make a bar plot of cancellation reasons aggregated by months.**\n"
      ]
    },
    {
      "cell_type": "code",
      "execution_count": null,
      "metadata": {
        "colab": {
          "base_uri": "https://localhost:8080/",
          "height": 443
        },
        "id": "-nFCLPX0lssD",
        "outputId": "efae990c-2b60-4928-c318-75723f900d18"
      },
      "outputs": [
        {
          "output_type": "execute_result",
          "data": {
            "text/plain": [
              "<Axes: xlabel='Month', ylabel='Cancellation_reason'>"
            ]
          },
          "metadata": {},
          "execution_count": 533
        },
        {
          "output_type": "display_data",
          "data": {
            "text/plain": [
              "<Figure size 432x288 with 1 Axes>"
            ],
            "image/png": "[encoded data removed]"
          },
          "metadata": {
            "needs_background": "light"
          }
        }
      ],
      "source": [
        "#Question 17\n",
        "\n",
        "flights_df.groupby(['months_name','Cancellation_reason'])['Cancellation_reason'].size().plot(kind='bar',ylabel = 'Cancellation_reason',xlabel='Month')"
      ]
    },
    {
      "cell_type": "markdown",
      "metadata": {
        "id": "JRxyYQsRU6_n"
      },
      "source": [
        "**18. Which month has the greatest number of cancellations due to Carrier?** \n"
      ]
    },
    {
      "cell_type": "code",
      "execution_count": null,
      "metadata": {
        "colab": {
          "base_uri": "https://localhost:8080/",
          "height": 300
        },
        "id": "4GKDo4xJU6_o",
        "outputId": "a8b69bc1-ccaa-49a4-ee2c-419c532e662f"
      },
      "outputs": [
        {
          "output_type": "display_data",
          "data": {
            "text/plain": [
              "<Figure size 432x288 with 1 Axes>"
            ],
            "image/png": "[encoded data removed]"
          },
          "metadata": {
            "needs_background": "light"
          }
        }
      ],
      "source": [
        "# You code here\n",
        "#Question 18\n",
        "flights_df[flights_df['Cancellation_reason'] == 'Carrier']['months_name'].value_counts().plot(kind='bar')\n",
        "plt.show()\n"
      ]
    },
    {
      "cell_type": "markdown",
      "metadata": {
        "id": "aw6AEV7ZU6_o"
      },
      "source": [
        "**19. Identify the carrier with the greatest number of cancellations due to carrier in the corresponding month from the previous question.**\n"
      ]
    },
    {
      "cell_type": "code",
      "execution_count": null,
      "metadata": {
        "colab": {
          "base_uri": "https://localhost:8080/",
          "height": 290
        },
        "id": "JMYgel5-U6_o",
        "outputId": "51e880f0-ae41-4b4b-df1c-a7c5d70a78dc"
      },
      "outputs": [
        {
          "output_type": "execute_result",
          "data": {
            "text/plain": [
              "<Axes: >"
            ]
          },
          "metadata": {},
          "execution_count": 535
        },
        {
          "output_type": "display_data",
          "data": {
            "text/plain": [
              "<Figure size 432x288 with 1 Axes>"
            ],
            "image/png": "[encoded data removed]"
          },
          "metadata": {
            "needs_background": "light"
          }
        }
      ],
      "source": [
        "# You code here\n",
        "#Question 19\n",
        "flights_df[(flights_df['Cancellation_reason'] == 'Carrier') & (flights_df['months_name'] == 'April')]['UniqueCarrier'].value_counts().plot(kind='bar')"
      ]
    },
    {
      "cell_type": "markdown",
      "metadata": {
        "id": "KOCTC3yCU6_o"
      },
      "source": [
        "**20. Examine median arrival and departure delays (in time) by carrier. Which carrier has the lowest median delay time for both arrivals and departures? Leave only non-negative values of delay times ('ArrDelay', 'DepDelay').\n",
        "([Boxplots](https://seaborn.pydata.org/generated/seaborn.boxplot.html) can be helpful in this exercise, as well as it might be a good idea to remove outliers in order to build nice graphs. You can exclude delay time values higher than a corresponding .95 percentile).**\n"
      ]
    },
    {
      "cell_type": "code",
      "execution_count": null,
      "metadata": {
        "colab": {
          "base_uri": "https://localhost:8080/",
          "height": 747
        },
        "id": "bAxUY1KxkFCo",
        "outputId": "0635ac8a-c579-4891-f934-0b30d9c021ed"
      },
      "outputs": [
        {
          "output_type": "display_data",
          "data": {
            "text/plain": [
              "<Figure size 432x288 with 1 Axes>"
            ],
            "image/png": "[encoded data removed]"
          },
          "metadata": {
            "needs_background": "light"
          }
        },
        {
          "output_type": "stream",
          "name": "stdout",
          "text": [
            "\n"
          ]
        },
        {
          "output_type": "display_data",
          "data": {
            "text/plain": [
              "<Figure size 432x288 with 1 Axes>"
            ],
            "image/png": "[encoded data removed]"
          },
          "metadata": {
            "needs_background": "light"
          }
        },
        {
          "output_type": "stream",
          "name": "stdout",
          "text": [
            "\n",
            "Carrier with the lowest median arrival delay and departure delay with ArrDelay of (6.0) and lowest departure delay of (5.0) is  AQ\n",
            "               ArrDelay  DepDelay\n",
            "UniqueCarrier                    \n",
            "AQ                  6.0       5.0\n",
            "HA                  8.0       5.0\n",
            "WN                 13.0      15.0\n",
            "F9                 14.0      11.0\n",
            "DL                 17.0      13.0\n"
          ]
        }
      ],
      "source": [
        "#Question 20\n",
        "# only keep flights with non-negative delay times\n",
        "non_neg_delay_flight = flights_df[(flights_df['ArrDelay'] >= 0) & (flights_df['DepDelay'] >= 0)]\n",
        "\n",
        "# exclude delay time values higher than a corresponding .95 percentile\n",
        "max_threshold = np.percentile(non_neg_delay_flight[['ArrDelay', 'DepDelay']], 95, axis=0)\n",
        "df = non_neg_delay_flight[(non_neg_delay_flight['ArrDelay'] <= max_threshold[0]) & \n",
        "                        (non_neg_delay_flight['DepDelay'] <= max_threshold[1])]\n",
        "#the median of ArrDelay and DepDelay grouped by UniqueCarrier\n",
        "median_delay = df.groupby('UniqueCarrier')[['ArrDelay','DepDelay']].median()\n",
        "med = pd.DataFrame(median_delay)\n",
        "min_arr = med['ArrDelay'].min()\n",
        "min_dep = med['DepDelay'].min()\n",
        "pl = med[(med.values == min_arr) | (med.values == min_dep)]\n",
        "\n",
        "#create a boxplot of carrier with the lowest median arrival delay\n",
        "sns.boxplot(x=pl.index,y=pl['ArrDelay'].values)\n",
        "plt.title('Minimum ArrDelay')\n",
        "plt.show()\n",
        "print()\n",
        "#create a boxplot of carrier with the lowest departure delays\n",
        "sns.boxplot(x=pl.index,y=pl['DepDelay'].values)\n",
        "plt.title('Minimum DepDelay')\n",
        "plt.show()\n",
        "\n",
        "print(f\"\\nCarrier with the lowest median arrival delay and departure delay with ArrDelay of ({pl.ArrDelay.values[0]}) and lowest departure delay of ({pl.DepDelay.values[0]}) is  {pl.index[0]}\")\n",
        "print(med.groupby('UniqueCarrier').min().sort_values(by=\"ArrDelay\").head())"
      ]
    },
    {
      "cell_type": "markdown",
      "metadata": {
        "id": "YE1E039SU6_o"
      },
      "source": [
        "That's it! Now go and do 30 push-ups! :). You are now a guru in Data Manipulation and Analysis with Python"
      ]
    },
    {
      "cell_type": "code",
      "execution_count": null,
      "metadata": {
        "id": "1n--0yboHr_x"
      },
      "outputs": [],
      "source": []
    }
  ],
  "metadata": {
    "anaconda-cloud": {},
    "colab": {
      "provenance": []
    },
    "kernelspec": {
      "display_name": "Python 3",
      "language": "python",
      "name": "python3"
    },
    "language_info": {
      "codemirror_mode": {
        "name": "ipython",
        "version": 3
      },
      "file_extension": ".py",
      "mimetype": "text/x-python",
      "name": "python",
      "nbconvert_exporter": "python",
      "pygments_lexer": "ipython3",
      "version": "3.8.8"
    }
  },
  "nbformat": 4,
  "nbformat_minor": 0
}